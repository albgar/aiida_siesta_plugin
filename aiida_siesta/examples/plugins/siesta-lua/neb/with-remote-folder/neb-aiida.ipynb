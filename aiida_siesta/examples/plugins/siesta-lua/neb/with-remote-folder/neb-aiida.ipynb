{
 "cells": [
  {
   "cell_type": "code",
   "execution_count": null,
   "metadata": {},
   "outputs": [],
   "source": [
    "!reentry scan -r aiida\n",
    "!verdi daemon restart "
   ]
  },
  {
   "cell_type": "code",
   "execution_count": null,
   "metadata": {},
   "outputs": [],
   "source": [
    "import aiida\n",
    "from aiida.orm import Code\n",
    "aiida.load_profile()\n",
    "code = Code.get_from_string('siesta-psml-lua@N552VW')"
   ]
  },
  {
   "cell_type": "code",
   "execution_count": null,
   "metadata": {
    "collapsed": true
   },
   "outputs": [],
   "source": [
    "#-----------------------------------------------------------------------------------------\n",
    "# Structure Parts\n",
    "#-----------------------------------------------------------------------------------------\n",
    "#print(code)\n",
    "from aiida.orm import StructureData\n",
    "cell = [[9.967821, 0., 0.,],\n",
    "        [-4.9839105, 8.63238621 , 0.,],\n",
    "        [0., 0., 35.0,],\n",
    "        ]\n",
    "s = StructureData(cell=cell)\n",
    "s.append_atom(position=(1.796414504088644 , 1.034964575570552 , 17.49999988461231),symbols=['Mg']) #1\n",
    "s.append_atom(position=(0.06411382958297901 , 1.9282490876626561 , 17.499999615790397 ),symbols=['O']) #2\n",
    "s.append_atom(position=(4.915157495637357  ,1.03417104502514 , 17.49999410652865 ),symbols=['Mg']) #3 \n",
    "s.append_atom(position=(8.340330058469936 , 0.977588183100705 , 17.500000370396798 ),symbols=['Mg']) #4\n",
    "s.append_atom(position=(0.033775998929101 , 3.851369381257772 , 17.50000031377486 ),symbols=['Mg']) #5\n",
    "s.append_atom(position=(-1.636826775540704 , 4.80954444628757 , 17.499999518951007 ),symbols=['O']) #6\n",
    "s.append_atom(position=(3.3538890818257108 , 3.7422376900988423 , 17.50000048152397 ),symbols=['Mg']) #7\n",
    "s.append_atom(position=(1.7095216292868671 , 4.792596209811345 , 17.49999984439486 ),symbols=['O']) #8\n",
    "s.append_atom(position=( 6.66447523085069 , 3.83903582857663 , 17.500003972504636 ),symbols=['Mg']) #9\n",
    "s.append_atom(position=(4.992398059719246 , 4.796402262995321 , 17.499999830636256 ),symbols=['O']) #10\n",
    "s.append_atom(position=(-1.6312125118474792,  6.735424725498249 , 17.500000053419775  ),symbols=['Mg']) #11\n",
    "s.append_atom(position=(-3.281407227113818 , 7.721478929370614 , 17.499999679820814 ),symbols=['O']) #12\n",
    "s.append_atom(position=(1.693271725472107 , 6.733697718787182 , 17.500000099458173 ),symbols=['Mg']) #13\n",
    "s.append_atom(position=(0.020564637915173 , 7.715517026551477 , 17.49999965177443 ),symbols=['O']) #14\n",
    "s.append_atom(position=(5.017666302745052 , 6.734829725229573 , 17.50000014920081 ),symbols=['Mg']) #15\n",
    "s.append_atom(position=(3.3556981316096812,  7.691086499821407 , 17.499999441161986 ),symbols=['O']) #16\n",
    "s.append_atom(position=(6.645625917535132 , 1.918067361283942  ,17.499886389375238 ),symbols=['O']) #17\n",
    "s.append_atom(position=( 6.645214            , 1.91830804  ,17.5 ),symbols='O',name=\"VO\") #18\n",
    "s.append_atom(position=( 3.322607 , 1.91830804 , 17.5),symbols='O',name=\"VO\")  #19\n",
    "# If want to save the CIF\n",
    "#cif_file=s.get_cif()\n",
    "#cif_file.export('/home/aakhtar/calculations/siesta/test-neb-aiida/with-remote-folder/structure','cif')"
   ]
  },
  {
   "cell_type": "code",
   "execution_count": null,
   "metadata": {
    "collapsed": true
   },
   "outputs": [],
   "source": [
    "#-----------------------------------------------------------------------------------------\n",
    "# Settings Parts\n",
    "#-----------------------------------------------------------------------------------------\n",
    "from aiida.orm import Dict\n",
    "parameters = Dict(dict={\n",
    "   \"mesh-cutoff\": \"250 Ry\",\n",
    "   \"dm-tolerance\": \"0.0001\",\n",
    "   \"MD-TypeOfRun\":   \"LUA\",\n",
    "   \"LUA-script\":   \"neb_with_restart.lua\",\n",
    "   \"DM-NumberPulay \":  \"3\",\n",
    "   \"DM-History-Depth\":  \"0\",\n",
    "   \"SCF-Mixer-weight\":  \"0.2\",\n",
    "   \"SCF-Mix\":   \"density\",\n",
    "   \"SCF-Mixer-kick\":  \"35\",\n",
    "   \"MD-VariableCell\":  \"F\",\n",
    "   \"MD-MaxCGDispl\":  \"0.3 Bohr\",\n",
    "   \"MD-MaxForceTol\":  \" 0.04000 eV/Ang\",\n",
    "    \"%block Geometry-Constraints\":\n",
    "    \"\"\"\n",
    "    atom 18\n",
    "    atom 19\n",
    "    %endblock Geometry-Constraints\"\"\"    \n",
    "    })\n",
    "#parameters.get_dict()\n",
    "#parent_calc_folder"
   ]
  },
  {
   "cell_type": "code",
   "execution_count": null,
   "metadata": {},
   "outputs": [],
   "source": [
    "#-----------------------------------------------------------------------------------------\n",
    "# Pseudo Parts\n",
    "#-----------------------------------------------------------------------------------------\n",
    "import os\n",
    "from aiida_siesta.data.psml import PsmlData\n",
    "pseudo_file_to_species_map = [ (\"Mg.psml\", ['Mg']),(\"O.psml\", ['O']),(\"VO.psml\", ['VO'])]\n",
    "pseudos_dict = {}\n",
    "for fname, kinds, in pseudo_file_to_species_map:\n",
    "      absname = os.path.realpath(os.path.join(\"./\",fname))\n",
    "      pseudo, created = PsmlData.get_or_create(absname, use_first=True)\n",
    "      for j in kinds:\n",
    "              pseudos_dict[j]=pseudo\n",
    "pseudos_dict"
   ]
  },
  {
   "cell_type": "code",
   "execution_count": null,
   "metadata": {},
   "outputs": [],
   "source": [
    "#-----------------------------------------------------------------------------------------\n",
    "# LUA Parts\n",
    "#-----------------------------------------------------------------------------------------\n",
    "from aiida_siesta.data.lua import LUAData\n",
    "lua_file_to_species_map = [ (\"neb_with_restart.lua\", ['lua']),\n",
    "                            (\"image-idpp-wg-0.xyz\", ['images0']),\n",
    "                            (\"image-idpp-wg-1.xyz\", ['images1']),\n",
    "                            (\"image-idpp-wg-2.xyz\", ['images2']),\n",
    "                            (\"image-idpp-wg-3.xyz\", ['images3']),\n",
    "                            (\"image-idpp-wg-4.xyz\", ['images4']),\n",
    "                            (\"image-idpp-wg-5.xyz\", ['images5']),\n",
    "                            (\"image-idpp-wg-6.xyz\", ['images6']),\n",
    "                          ]\n",
    "lua_dict = {}\n",
    "for fname, kinds, in lua_file_to_species_map:\n",
    "      absname = os.path.realpath(os.path.join(\"./\",fname))\n",
    "      lua, created = LUAData.get_or_create(absname, use_first=True)\n",
    "      for j in kinds:\n",
    "              lua_dict[j]=lua\n",
    "lua_dict"
   ]
  },
  {
   "cell_type": "code",
   "execution_count": null,
   "metadata": {},
   "outputs": [],
   "source": [
    "#-----------------------------------------------------------------------------------------\n",
    "# Remote Folder for DM.1... Parts\n",
    "# Have to set correct path for remote folder\n",
    "#-----------------------------------------------------------------------------------------\n",
    "from aiida.orm import RemoteData ,load_computer,load_node\n",
    "a=RemoteData()\n",
    "a.computer=load_computer('1')\n",
    "a.set_remote_path(\"/home/aakhtar/calculations/siesta/test-neb-aiida/with-remote-folder/Remote-Folder/\")\n",
    "a.store()\n",
    "folder=load_node(a.pk)"
   ]
  },
  {
   "cell_type": "code",
   "execution_count": null,
   "metadata": {
    "collapsed": true
   },
   "outputs": [],
   "source": [
    "#-----------------------------------------------------------------------------------------\n",
    "# Basis and kpoint Parts\n",
    "#-----------------------------------------------------------------------------------------\n",
    "from aiida.orm import Dict\n",
    "basis_dict = {\n",
    "  \"%block PAO-Basis\":\n",
    "    \"\"\"\n",
    " Mg   4      0.04671\n",
    " n=2   0   1   E    22.36384     0.28509\n",
    " 3.47661\n",
    " 1.00000\n",
    " n=3   0   2   E    10.10988     0.99154\n",
    " 3.46833     1.25785\n",
    " 1.00000     1.00000\n",
    " n=2   1   2   E     2.89494     1.12196\n",
    " 3.93864     1.05729\n",
    " 1.00000     1.00000\n",
    " n=3   1   1   E    77.17311     1.04265\n",
    " 4.39039\n",
    " 1.00000\n",
    "  O    3     -0.49820\n",
    " n=2   0   2   E     3.77977     0.09673\n",
    " 4.74747     2.11057\n",
    " 1.00000     1.00000\n",
    " n=3   0   1   E     5.24950     0.27857\n",
    " 4.37690\n",
    " 1.00000\n",
    " n=2   1   2   E     2.98223     1.27650\n",
    " 7.24547     3.33329\n",
    " 1.00000     1.00000\n",
    " VO  3     -1.49097\n",
    " n=2   0   2   E    16.28001     3.94212\n",
    " 5.71993     3.12860\n",
    " 1.00000     1.00000\n",
    " n=2   1   2   E     5.45115     2.41457\n",
    " 5.43517     3.35834\n",
    " 1.00000     1.00000\n",
    " n=3   2   1   E     1.93336     0.88932\n",
    " 4.35775\n",
    " 1.00000\n",
    "    %endblock PAO-Basis\"\"\",\n",
    "}\n",
    "\n",
    "basis = Dict(dict=basis_dict)\n",
    "from aiida.orm import KpointsData\n",
    "kpoints=KpointsData()\n",
    "kp_mesh = 5\n",
    "mesh_displ = 0.5 #optional\n",
    "#kpoints.set_kpoints_mesh([kp_mesh,kp_mesh,kp_mesh],[mesh_displ,mesh_displ,mesh_displ])\n",
    "kpoints.set_kpoints_mesh([5,5,1],[mesh_displ,mesh_displ,mesh_displ])"
   ]
  },
  {
   "cell_type": "code",
   "execution_count": null,
   "metadata": {
    "collapsed": true
   },
   "outputs": [],
   "source": [
    "#-----------------------------------------------------------------------------------------\n",
    "# Retrieved Parts\n",
    "#-----------------------------------------------------------------------------------------\n",
    "settings_dict = {\n",
    "  'additional_retrieve_list': ['aiida.EIG', 'aiida.ORB_INDX','NEB.results','NEB.1.T'],\n",
    "}\n",
    "settings = Dict(dict=settings_dict)"
   ]
  },
  {
   "cell_type": "code",
   "execution_count": null,
   "metadata": {},
   "outputs": [],
   "source": [
    "#-----------------------------------------------------------------------------------------\n",
    "# Basis and kpoint Parts\n",
    "#-----------------------------------------------------------------------------------------\n",
    "from aiida_siesta.calculations.siesta import SiestaCalculation\n",
    "builder = SiestaCalculation.get_builder()\n",
    "builder.code = code\n",
    "builder.structure = s\n",
    "builder.parameters = parameters\n",
    "builder.pseudos = pseudos_dict\n",
    "builder.basis = basis\n",
    "builder.kpoints = kpoints\n",
    "builder.parent_calc_folder =folder\n",
    "builder.settings=settings\n",
    "builder.luafiles = lua_dict\n",
    "builder.metadata.options.resources = {'num_machines': 1,\n",
    "                                     \"num_mpiprocs_per_machine\": 6}\n",
    "builder.metadata.options.withmpi= True\n",
    "builder.metadata.options.max_wallclock_seconds = 864000\n",
    "print(builder)"
   ]
  },
  {
   "cell_type": "code",
   "execution_count": null,
   "metadata": {
    "collapsed": true
   },
   "outputs": [],
   "source": [
    "#-----------------------------------------------------------------------------------------\n",
    "# running Parts\n",
    "#-----------------------------------------------------------------------------------------\n",
    "from aiida.engine import run,submit #,submit_test\n",
    "results = run(builder)\n",
    "#results=submit_test(builder)"
   ]
  },
  {
   "cell_type": "code",
   "execution_count": null,
   "metadata": {},
   "outputs": [],
   "source": [
    "#results\n",
    "results['forces_and_stress'].pk"
   ]
  },
  {
   "cell_type": "code",
   "execution_count": null,
   "metadata": {
    "collapsed": true
   },
   "outputs": [],
   "source": [
    "#-----------------------------------------------------------------------------------------\n",
    "# Plotting Parts\n",
    "#-----------------------------------------------------------------------------------------\n",
    "def NEB_Results(pk,Number_of_images):\n",
    "    from aiida.orm import load_node\n",
    "    import numpy as np\n",
    "    neb_results_node=load_node(pk) #load_node('584')\n",
    "    neb_resutls_retrieved=neb_results_node.outputs.retrieved \n",
    "    neb_results=neb_resutls_retrieved.get_object_content('NEB.results')\n",
    "    Number_of_images=Number_of_images\n",
    "    data_temp=[]\n",
    "    data_temp.append(neb_results.splitlines())\n",
    "    data=[]\n",
    "    for line in range(len(data_temp[0])):\n",
    "            if line>2:\n",
    "                #print (line)\n",
    "                data.append(data_temp[0][line])\n",
    "    del data_temp\n",
    "    while '' in data:   #removing Null strings between each neb stage\n",
    "        data.remove('')\n",
    "    image_number=[]\n",
    "    reaction_coordinates=[]\n",
    "    Energy=[]\n",
    "    E_diff=[]\n",
    "    Curvature=[]\n",
    "    Max_Force=[]\n",
    "    for i in range(len(data)):\n",
    "        image_number.append(float(data[i].split()[0]))\n",
    "        reaction_coordinates.append(float(data[i].split()[1]))\n",
    "        Energy.append(float(data[i].split()[2]))\n",
    "        E_diff.append(float(data[i].split()[3]))\n",
    "        Curvature.append(float(data[i].split()[4]))\n",
    "        Max_Force.append(float(data[i].split()[5]))\n",
    "    #Last NEB\n",
    "    Total_Number=Number_of_images+2\n",
    "    shift=len(E_diff)-Total_Number\n",
    "    #-----------------------------------------------\n",
    "    # Final Values\n",
    "    #-----------------------------------------------\n",
    "    image_number_Final=np.array([])\n",
    "    reaction_coordinates_Final=np.array([])\n",
    "    Energy_Final=np.array([])\n",
    "    E_diff_Final=np.array([])\n",
    "    Curvature_Final=np.array([])\n",
    "    Max_Force_Final=np.array([])\n",
    "    for i in range(Total_Number):\n",
    "        image_number_Final=np.append(image_number_Final,int(image_number[shift+i]))\n",
    "        reaction_coordinates_Final=np.append(reaction_coordinates_Final,reaction_coordinates[shift+i])\n",
    "        E_diff_Final=np.append(E_diff_Final,E_diff[shift+i])\n",
    "        Energy_Final=np.append(Energy_Final,Energy[shift+i])\n",
    "        Curvature_Final=np.append(Curvature_Final,Curvature[shift+i])\n",
    "        Max_Force_Final=np.append(Max_Force_Final,Max_Force[shift+i])\n",
    "    min_neb=max(Energy_Final)\n",
    "    max_neb=min(Energy_Final)\n",
    "    Barrier=abs(max_neb-min_neb)\n",
    "    \n",
    "    #------------------------------\n",
    "    # Plotting\n",
    "    #------------------------------\n",
    "    import os, shutil\n",
    "    import matplotlib.pyplot as plt\n",
    "    import numpy as np\n",
    "    from scipy.interpolate import interp1d\n",
    "    from scipy import interpolate\n",
    "    im=[]\n",
    "    x=[]\n",
    "    y=[]\n",
    "    y2=[]\n",
    "    for i in range(Total_Number):\n",
    "        im.append(np.array(int(image_number[shift+i])))\n",
    "        x.append(np.array(reaction_coordinates[shift+i]))\n",
    "        y.append(np.array(E_diff[shift+i]))\n",
    "        y2.append(np.array(Energy[shift+i]))\n",
    "    #xnew = np.linspace(0, 10, num=41, endpoint=True)\n",
    "    #f = interp1d(x, y)\n",
    "    xnew = np.linspace(0, x[len(x)-1], num=1000, endpoint=True)\n",
    "    f1=interp1d(x, y,kind='linear')\n",
    "    f2=interp1d(x, y, kind='cubic')\n",
    "    f3=interp1d(x, y, kind='quadratic')\n",
    "\n",
    "    #tck = interpolate.splrep(x, y, s=0)\n",
    "    #ynew = interpolate.splev(x, tck, der=0)\n",
    "    #plt.plot(x,ynew,'o',xnew,f3(xnew),\"-\")\n",
    "    plt.plot(x,y,\"o\",xnew,f1(xnew),\"-\",xnew,f2(xnew),\"--\",xnew,f3(xnew),'r')\n",
    "    #plt.title(\"Barrier Energy = \"+str(max(E_diff))+\" eV\")\n",
    "    plt.legend(['data', 'linear', 'cubic','quadratic'], loc='best')\n",
    "    #plt.plot(x,y,\"o\",x,ynew,'+')\n",
    "    plt.show()\n",
    "    \n",
    "    \n",
    "    \n",
    "    return (image_number_Final,\n",
    "            reaction_coordinates_Final,\n",
    "            E_diff_Final,\n",
    "            Energy_Final,\n",
    "            Curvature_Final,\n",
    "            Max_Force_Final,\n",
    "            Barrier)"
   ]
  },
  {
   "cell_type": "code",
   "execution_count": null,
   "metadata": {},
   "outputs": [],
   "source": [
    "NEB_Results('584',5)"
   ]
  },
  {
   "cell_type": "code",
   "execution_count": null,
   "metadata": {
    "collapsed": true
   },
   "outputs": [],
   "source": [
    "#---------------------\n",
    "#Examples\n",
    "#------------------------\n",
    "#b=load_node('567')\n",
    "#b.get_arraynames()\n",
    "#b.get_array('forces')\n",
    "#---------------------------------\n",
    "#Example for sending DM or images\n",
    "#---------------------------------\n",
    "#q=QueryBuilder\n",
    "#q.append(computer)\n",
    "#for i in q.iterall():\n",
    "#    print (i)\n",
    "#from aiida.orn import RemoteData\n",
    "#a=RemoteData()\n",
    "#a.computer=load_computer(2)\n",
    "#a.set_remote_path(\"\")\n",
    "#a.store()"
   ]
  },
  {
   "cell_type": "code",
   "execution_count": null,
   "metadata": {
    "collapsed": true
   },
   "outputs": [],
   "source": [
    "#folder=load_node('')\n",
    "#builer.parnet_calc_folder=folder"
   ]
  },
  {
   "cell_type": "code",
   "execution_count": null,
   "metadata": {
    "collapsed": true
   },
   "outputs": [],
   "source": []
  }
 ],
 "metadata": {
  "kernelspec": {
   "display_name": "Python 3",
   "language": "python",
   "name": "python3"
  },
  "language_info": {
   "codemirror_mode": {
    "name": "ipython",
    "version": 3
   },
   "file_extension": ".py",
   "mimetype": "text/x-python",
   "name": "python",
   "nbconvert_exporter": "python",
   "pygments_lexer": "ipython3",
   "version": "3.6.9"
  }
 },
 "nbformat": 4,
 "nbformat_minor": 4
}
