{
 "cells": [
  {
   "cell_type": "code",
   "execution_count": 24,
   "metadata": {},
   "outputs": [
    {
     "name": "stdout",
     "output_type": "stream",
     "text": [
      "\u001b[22mRestarting the daemon... \u001b[0m\u001b[32m\u001b[1mOK\u001b[0m\n"
     ]
    }
   ],
   "source": [
    "!reentry scan -r aiida\n",
    "!verdi daemon restart "
   ]
  },
  {
   "cell_type": "code",
   "execution_count": 25,
   "metadata": {},
   "outputs": [],
   "source": [
    "import aiida\n",
    "from aiida.orm import Code\n",
    "aiida.load_profile()\n",
    "code = Code.get_from_string('siesta-psml-lua@pwk')"
   ]
  },
  {
   "cell_type": "code",
   "execution_count": 26,
   "metadata": {},
   "outputs": [],
   "source": [
    "#-----------------------------------------------------------------------------------------\n",
    "# Structure Parts\n",
    "#-----------------------------------------------------------------------------------------\n",
    "#print(code)\n",
    "from aiida.orm import StructureData\n",
    "cell = [[15.0, 00.0 , 00.0,],\n",
    "        [00.0, 15.0 , 00.0,],\n",
    "        [00.0, 00.0 , 15.0,],\n",
    "        ]\n",
    "s = StructureData(cell=cell)\n",
    "s.append_atom(position=( 0.000,  0.000,  0.000 ),symbols=['O']) #1\n",
    "s.append_atom(position=( 0.757,  0.586,  0.000 ),symbols=['H']) #2\n",
    "s.append_atom(position=(-0.757,  0.586,  0.000 ),symbols=['H']) #3 \n",
    "s.append_atom(position=( 0.000,  3.500,  0.000 ),symbols=['O']) #4\n",
    "s.append_atom(position=( 0.757,  2.914,  0.000 ),symbols=['H']) #5\n",
    "s.append_atom(position=(-0.757,  2.914,  0.000 ),symbols=['H']) #6\n",
    "# If want to save the CIF\n",
    "#cif_file=s.get_cif()\n",
    "#cif_file.export('/home/aakhtar/calculations/siesta/test-neb-aiida/with-remote-folder/structure','cif')"
   ]
  },
  {
   "cell_type": "code",
   "execution_count": 27,
   "metadata": {},
   "outputs": [],
   "source": [
    "#-----------------------------------------------------------------------------------------\n",
    "# Settings Parts\n",
    "#-----------------------------------------------------------------------------------------\n",
    "from aiida.orm import Dict\n",
    "parameters = Dict(dict={\n",
    "   \"mesh-cutoff\": \"250 Ry\",\n",
    "   \"dm-tolerance\": \"0.0001\",\n",
    "   \"MD-TypeOfRun\":   \"LUA\",\n",
    "   \"LUA-script\":   \"neb_with_restart-new.lua\",\n",
    "   \"DM-NumberPulay \":  \"3\",\n",
    "   \"DM-History-Depth\":  \"0\",\n",
    "   \"SCF-Mixer-weight\":  \"0.02\",\n",
    "   \"SCF-Mix\":   \"density\",\n",
    "   \"SCF-Mixer-kick\":  \"35\",\n",
    "   \"MD-VariableCell\":  \"F\",\n",
    "   \"MD-MaxCGDispl\":  \"0.3 Bohr\",\n",
    "   \"MD-MaxForceTol\":  \" 0.04000 eV/Ang\",\n",
    "    \"%block Geometry-Constraints\":\n",
    "    \"\"\"\n",
    "    atom [1 -- 4]\n",
    "    %endblock Geometry-Constraints\"\"\"    \n",
    "    })\n",
    "#parameters.get_dict()\n",
    "#parent_calc_folder"
   ]
  },
  {
   "cell_type": "code",
   "execution_count": 28,
   "metadata": {},
   "outputs": [
    {
     "data": {
      "text/plain": [
       "{'H': <PsfData: uuid: a170b9e5-9c3e-4a0c-abd8-40a320e6ed04 (pk: 35)>,\n",
       " 'O': <PsfData: uuid: 9b3d6b90-a0a6-4f9b-9dcc-fca3422a6e0e (pk: 36)>}"
      ]
     },
     "execution_count": 28,
     "metadata": {},
     "output_type": "execute_result"
    }
   ],
   "source": [
    "#-----------------------------------------------------------------------------------------\n",
    "# Pseudo Parts\n",
    "#-----------------------------------------------------------------------------------------\n",
    "import os\n",
    "#from aiida_siesta.data.psml import PsmlData\n",
    "from aiida_siesta.data.psf import PsfData\n",
    "pseudo_file_to_species_map = [ (\"H.psf\", ['H']),(\"O.psf\", ['O'])]\n",
    "pseudos_dict = {}\n",
    "for fname, kinds, in pseudo_file_to_species_map:\n",
    "      absname = os.path.realpath(os.path.join(\"./\",fname))\n",
    "      pseudo, created = PsfData.get_or_create(absname, use_first=True)\n",
    "      for j in kinds:\n",
    "              pseudos_dict[j]=pseudo\n",
    "pseudos_dict"
   ]
  },
  {
   "cell_type": "code",
   "execution_count": 29,
   "metadata": {},
   "outputs": [
    {
     "data": {
      "text/plain": [
       "{'lua': <LUAData: uuid: 63d9d210-2a26-4270-a594-5ae78966f019 (pk: 37)>,\n",
       " 'images0': <LUAData: uuid: bd0793fb-d4bb-48f6-a713-4c788b6d6ae8 (pk: 38)>,\n",
       " 'images1': <LUAData: uuid: dd0975df-867c-460f-8bc9-033f4ec92224 (pk: 66)>,\n",
       " 'images2': <LUAData: uuid: 40192b86-c1de-420c-adf1-387728542e2c (pk: 67)>,\n",
       " 'images3': <LUAData: uuid: c30cd2f1-887a-4f85-afb1-e0281bd61387 (pk: 68)>,\n",
       " 'images4': <LUAData: uuid: d303f045-e8fb-41c9-9f19-cb635490f0b9 (pk: 69)>,\n",
       " 'images5': <LUAData: uuid: a528b264-2903-4b42-92a2-7e46db2bbc0a (pk: 70)>,\n",
       " 'images6': <LUAData: uuid: 674cac9f-0fa7-44c6-9016-928321bdae6f (pk: 44)>}"
      ]
     },
     "execution_count": 29,
     "metadata": {},
     "output_type": "execute_result"
    }
   ],
   "source": [
    "#-----------------------------------------------------------------------------------------\n",
    "# LUA Parts\n",
    "#-----------------------------------------------------------------------------------------\n",
    "from aiida_siesta.data.lua import LUAData\n",
    "lua_file_to_species_map = [ (\"neb_with_restart-new.lua\", ['lua']),\n",
    "                            (\"image_0.xyz\", ['images0']),\n",
    "                            (\"image_1.xyz\", ['images1']),\n",
    "                            (\"image_2.xyz\", ['images2']),\n",
    "                            (\"image_3.xyz\", ['images3']),\n",
    "                            (\"image_4.xyz\", ['images4']),\n",
    "                            (\"image_5.xyz\", ['images5']),\n",
    "                            (\"image_6.xyz\", ['images6']),\n",
    "                          ]\n",
    "lua_dict = {}\n",
    "for fname, kinds, in lua_file_to_species_map:\n",
    "      absname = os.path.realpath(os.path.join(\"./\",fname))\n",
    "      lua, created = LUAData.get_or_create(absname, use_first=True)\n",
    "      for j in kinds:\n",
    "              lua_dict[j]=lua\n",
    "lua_dict"
   ]
  },
  {
   "cell_type": "code",
   "execution_count": 30,
   "metadata": {},
   "outputs": [],
   "source": [
    "#-----------------------------------------------------------------------------------------\n",
    "# Remote Folder for DM.1... Parts\n",
    "# Have to set correct path for remote folder\n",
    "#-----------------------------------------------------------------------------------------\n",
    "from aiida.orm import RemoteData ,load_computer,load_node\n",
    "a=RemoteData()\n",
    "a.computer=load_computer('1')\n",
    "a.set_remote_path(\"/home/aakhtar/Calculations/aiida/neb/test/RemoteFolder/\")\n",
    "a.store()\n",
    "folder=load_node(a.pk)"
   ]
  },
  {
   "cell_type": "code",
   "execution_count": 31,
   "metadata": {},
   "outputs": [],
   "source": [
    "#-----------------------------------------------------------------------------------------\n",
    "# Basis and kpoint Parts\n",
    "#-----------------------------------------------------------------------------------------\n",
    "from aiida.orm import Dict\n",
    "basis_dict = {\n",
    "  \"%block PAO-Basis\":\n",
    "    \"\"\"\n",
    " O                     2                    # Species label, number of l-shells\n",
    " n=2   0   2                         # n, l, Nzeta\n",
    "   3.305      2.510\n",
    "   1.000      1.000\n",
    " n=2   1   2 P   1                   # n, l, Nzeta, Polarization, NzetaPol\n",
    "   3.937      2.542\n",
    "   1.000      1.000\n",
    "H                     1                    # Species label, number of l-shells\n",
    " n=1   0   2 P   1                   # n, l, Nzeta, Polarization, NzetaPol\n",
    "   4.828      3.855\n",
    "   1.000      1.000\n",
    "\n",
    "    %endblock PAO-Basis\"\"\",\n",
    "}\n",
    "\n",
    "basis = Dict(dict=basis_dict)\n",
    "from aiida.orm import KpointsData\n",
    "kpoints=KpointsData()\n",
    "kp_mesh = 1\n",
    "mesh_displ = 0.5 #optional\n",
    "#kpoints.set_kpoints_mesh([kp_mesh,kp_mesh,kp_mesh],[mesh_displ,mesh_displ,mesh_displ])\n",
    "kpoints.set_kpoints_mesh([1,1,1],[mesh_displ,mesh_displ,mesh_displ])"
   ]
  },
  {
   "cell_type": "code",
   "execution_count": 32,
   "metadata": {},
   "outputs": [],
   "source": [
    "#-----------------------------------------------------------------------------------------\n",
    "# Retrieved Parts\n",
    "#-----------------------------------------------------------------------------------------\n",
    "settings_dict = {\n",
    "  'additional_retrieve_list': ['aiida.EIG', 'aiida.ORB_INDX','NEB.results','NEB.1.T'],\n",
    "}\n",
    "settings = Dict(dict=settings_dict)"
   ]
  },
  {
   "cell_type": "code",
   "execution_count": 33,
   "metadata": {},
   "outputs": [
    {
     "name": "stdout",
     "output_type": "stream",
     "text": [
      "{'metadata': {'options': {'resources': {'num_machines': 1, 'num_mpiprocs_per_machine': 6}, 'withmpi': True, 'max_wallclock_seconds': 864000}}, 'pseudos': {'H': <PsfData: uuid: a170b9e5-9c3e-4a0c-abd8-40a320e6ed04 (pk: 35)>, 'O': <PsfData: uuid: 9b3d6b90-a0a6-4f9b-9dcc-fca3422a6e0e (pk: 36)>}, 'luafiles': {'lua': <LUAData: uuid: 63d9d210-2a26-4270-a594-5ae78966f019 (pk: 37)>, 'images0': <LUAData: uuid: bd0793fb-d4bb-48f6-a713-4c788b6d6ae8 (pk: 38)>, 'images1': <LUAData: uuid: dd0975df-867c-460f-8bc9-033f4ec92224 (pk: 66)>, 'images2': <LUAData: uuid: 40192b86-c1de-420c-adf1-387728542e2c (pk: 67)>, 'images3': <LUAData: uuid: c30cd2f1-887a-4f85-afb1-e0281bd61387 (pk: 68)>, 'images4': <LUAData: uuid: d303f045-e8fb-41c9-9f19-cb635490f0b9 (pk: 69)>, 'images5': <LUAData: uuid: a528b264-2903-4b42-92a2-7e46db2bbc0a (pk: 70)>, 'images6': <LUAData: uuid: 674cac9f-0fa7-44c6-9016-928321bdae6f (pk: 44)>}, 'code': <Code: Remote code 'siesta-psml-lua' on pwk, pk: 26, uuid: 348b1f10-53dc-40ee-8f70-ebde50e803f3>, 'structure': <StructureData: uuid: 1da30f3e-df55-4647-89d9-8257153e4dbb (unstored)>, 'parameters': <Dict: uuid: fa7d9d6a-cecd-4fd9-99d7-dab5cc939291 (unstored)>, 'basis': <Dict: uuid: 8a0c8f21-4e78-46db-b4b0-2cbed85ee4c9 (unstored)>, 'kpoints': <KpointsData: uuid: 7660fb4e-972c-42d0-ae89-6edeb0386ba8 (unstored)>, 'parent_calc_folder': <RemoteData: uuid: 8818d4c6-e700-4d7e-8ac2-b655a1d1c84e (pk: 71)>, 'settings': <Dict: uuid: 67a96b3b-2fc4-498d-bb92-8940a670a849 (unstored)>}\n"
     ]
    }
   ],
   "source": [
    "#-----------------------------------------------------------------------------------------\n",
    "# Basis and kpoint Parts\n",
    "#-----------------------------------------------------------------------------------------\n",
    "from aiida_siesta.calculations.siesta import SiestaCalculation\n",
    "builder = SiestaCalculation.get_builder()\n",
    "builder.code = code\n",
    "builder.structure = s\n",
    "builder.parameters = parameters\n",
    "builder.pseudos = pseudos_dict\n",
    "builder.basis = basis\n",
    "builder.kpoints = kpoints\n",
    "builder.parent_calc_folder =folder\n",
    "builder.settings=settings\n",
    "builder.luafiles = lua_dict\n",
    "builder.metadata.options.resources = {'num_machines': 1,\n",
    "                                     \"num_mpiprocs_per_machine\": 6}\n",
    "builder.metadata.options.withmpi= True\n",
    "builder.metadata.options.max_wallclock_seconds = 864000\n",
    "print(builder)"
   ]
  },
  {
   "cell_type": "code",
   "execution_count": 35,
   "metadata": {},
   "outputs": [],
   "source": [
    "#-----------------------------------------------------------------------------------------\n",
    "# running Parts\n",
    "#-----------------------------------------------------------------------------------------\n",
    "from aiida.engine import run,submit #,submit_test\n",
    "results = run(builder)\n",
    "#results=submit_test(builder)"
   ]
  },
  {
   "cell_type": "code",
   "execution_count": 36,
   "metadata": {},
   "outputs": [
    {
     "data": {
      "text/plain": [
       "86"
      ]
     },
     "execution_count": 36,
     "metadata": {},
     "output_type": "execute_result"
    }
   ],
   "source": [
    "#results\n",
    "results['forces_and_stress'].pk"
   ]
  },
  {
   "cell_type": "code",
   "execution_count": 69,
   "metadata": {},
   "outputs": [],
   "source": [
    "from aiida.orm import load_node\n",
    "neb_results_node=load_node(82) #load_node('584')\n",
    "neb_resutls_retrieved=neb_results_node.outputs.retrieved \n",
    "neb_results=neb_resutls_retrieved.get_object_content('NEB.results')"
   ]
  },
  {
   "cell_type": "code",
   "execution_count": 70,
   "metadata": {},
   "outputs": [],
   "source": [
    "import numpy as np\n",
    "Number_of_images=5\n",
    "data_temp=[]\n",
    "data_temp.append(neb_results.splitlines())\n",
    "data=[]\n",
    "for line in range(len(data_temp[0])):\n",
    "        if line>2:\n",
    "            #print (line)\n",
    "            data.append(data_temp[0][line])\n",
    "del data_temp\n",
    "while '' in data:   #removing Null strings between each neb stage\n",
    "    data.remove('')\n",
    "image_number=[]\n",
    "reaction_coordinates=[]\n",
    "Energy=[]\n",
    "E_diff=[]\n",
    "Curvature=[]\n",
    "Max_Force=[]\n",
    "for i in range(len(data)):\n",
    "    image_number.append(float(data[i].split()[0]))\n",
    "    reaction_coordinates.append(float(data[i].split()[1]))\n",
    "    Energy.append(float(data[i].split()[2]))\n",
    "    E_diff.append(float(data[i].split()[3]))\n",
    "    Curvature.append(float(data[i].split()[4]))\n",
    "    Max_Force.append(float(data[i].split()[5]))\n",
    "#Last NEB\n",
    "Total_Number=Number_of_images+2\n",
    "shift=len(E_diff)-Total_Number\n",
    "#-----------------------------------------------\n",
    "# Final Values\n",
    "#-----------------------------------------------\n",
    "image_number_Final=np.array([])\n",
    "reaction_coordinates_Final=np.array([])\n",
    "Energy_Final=np.array([])\n",
    "E_diff_Final=np.array([])\n",
    "Curvature_Final=np.array([])\n",
    "Max_Force_Final=np.array([])\n",
    "for i in range(Total_Number):\n",
    "    image_number_Final=np.append(image_number_Final,int(image_number[shift+i]))\n",
    "    reaction_coordinates_Final=np.append(reaction_coordinates_Final,reaction_coordinates[shift+i])\n",
    "    E_diff_Final=np.append(E_diff_Final,E_diff[shift+i])\n",
    "    Energy_Final=np.append(Energy_Final,Energy[shift+i])\n",
    "    Curvature_Final=np.append(Curvature_Final,Curvature[shift+i])\n",
    "    Max_Force_Final=np.append(Max_Force_Final,Max_Force[shift+i])\n",
    "min_neb=max(Energy_Final)\n",
    "max_neb=min(Energy_Final)\n",
    "Barrier=abs(max_neb-min_neb)"
   ]
  },
  {
   "cell_type": "code",
   "execution_count": 72,
   "metadata": {},
   "outputs": [
    {
     "data": {
      "text/plain": [
       "array([-0.11815006, -0.03935191, -0.04646751, -0.01624707, -0.03635964,\n",
       "       -0.09785523, -0.11815006])"
      ]
     },
     "execution_count": 72,
     "metadata": {},
     "output_type": "execute_result"
    }
   ],
   "source": [
    "E_diff_Final"
   ]
  },
  {
   "cell_type": "code",
   "execution_count": null,
   "metadata": {},
   "outputs": [],
   "source": [
    "#---------------------\n",
    "#Examples\n",
    "#------------------------\n",
    "#b=load_node('567')\n",
    "#b.get_arraynames()\n",
    "#b.get_array('forces')\n",
    "#---------------------------------\n",
    "#Example for sending DM or images\n",
    "#---------------------------------\n",
    "#q=QueryBuilder\n",
    "#q.append(computer)\n",
    "#for i in q.iterall():\n",
    "#    print (i)\n",
    "#from aiida.orn import RemoteData\n",
    "#a=RemoteData()\n",
    "#a.computer=load_computer(2)\n",
    "#a.set_remote_path(\"\")\n",
    "#a.store()"
   ]
  },
  {
   "cell_type": "code",
   "execution_count": null,
   "metadata": {},
   "outputs": [],
   "source": [
    "#folder=load_node('')\n",
    "#builer.parnet_calc_folder=folder"
   ]
  },
  {
   "cell_type": "code",
   "execution_count": null,
   "metadata": {},
   "outputs": [],
   "source": []
  }
 ],
 "metadata": {
  "kernelspec": {
   "display_name": "Python 3",
   "language": "python",
   "name": "python3"
  },
  "language_info": {
   "codemirror_mode": {
    "name": "ipython",
    "version": 3
   },
   "file_extension": ".py",
   "mimetype": "text/x-python",
   "name": "python",
   "nbconvert_exporter": "python",
   "pygments_lexer": "ipython3",
   "version": "3.8.5"
  }
 },
 "nbformat": 4,
 "nbformat_minor": 4
}
