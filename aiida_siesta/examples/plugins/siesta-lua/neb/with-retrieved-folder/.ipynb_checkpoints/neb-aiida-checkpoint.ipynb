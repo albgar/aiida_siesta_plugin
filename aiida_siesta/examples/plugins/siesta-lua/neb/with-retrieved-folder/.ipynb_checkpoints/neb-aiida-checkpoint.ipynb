{
 "cells": [
  {
   "cell_type": "code",
   "execution_count": 1,
   "metadata": {},
   "outputs": [
    {
     "name": "stdout",
     "output_type": "stream",
     "text": [
      "\u001b[22mStarting the daemon... \u001b[0m\u001b[32m\u001b[1mRUNNING\u001b[0m\n"
     ]
    }
   ],
   "source": [
    "!reentry scan -r aiida\n",
    "!verdi daemon start"
   ]
  },
  {
   "cell_type": "code",
   "execution_count": 2,
   "metadata": {},
   "outputs": [
    {
     "data": {
      "text/plain": [
       "<aiida.manage.configuration.profile.Profile at 0x7fc2fa25f9b0>"
      ]
     },
     "execution_count": 2,
     "metadata": {},
     "output_type": "execute_result"
    }
   ],
   "source": [
    "import aiida\n",
    "from aiida.orm import Code\n",
    "aiida.load_profile()"
   ]
  },
  {
   "cell_type": "code",
   "execution_count": 22,
   "metadata": {
    "collapsed": true
   },
   "outputs": [],
   "source": [
    "\n",
    "#!verdi code list\n",
    "#code = Code.get_from_string('siesta-psml-support@N552VW')\n",
    "code = Code.get_from_string('siesta-psml-lua@N552VW')\n",
    "#print(code)\n",
    "from aiida.orm import StructureData\n",
    "cell = [[15.0, 0.0, 0.0,],\n",
    "        [ 0.0,15.0, 0.0,],\n",
    "        [ 0.0, 0.0,15.0,],\n",
    "        ]\n",
    "s = StructureData(cell=cell)\n",
    "s.append_atom(position=( 0.000 , 0.000 , 0.000 ),symbols=['O']) #1\n",
    "s.append_atom(position=( 0.757 , 0.586 , 0.000 ),symbols=['H']) #2\n",
    "s.append_atom(position=(-0.757 , 0.586 , 0.000),symbols=['H']) #3 \n",
    "s.append_atom(position=( 0.000 , 3.500 , 0.000),symbols=['O']) #4\n",
    "s.append_atom(position=( 0.757 , 2.914 , 0.000 ),symbols=['H']) #5\n",
    "s.append_atom(position=(-0.757 , 2.914 , 0.000),symbols=['H']) #6\n",
    "\n",
    "#s.get_pymatgen_structure()\n",
    "from aiida.orm import Dict\n",
    "parameters = Dict(dict={\n",
    "   \"mesh-cutoff\": \"250 Ry\",\n",
    "   \"dm-tolerance\": \"0.0001\",\n",
    "   \"MD-TypeOfRun\":   \"LUA\",\n",
    "   \"LUA-script\":   \"neb.lua\",\n",
    "   \"DM-NumberPulay \":  \"3\",\n",
    "   \"DM-History-Depth\":  \"0\",\n",
    "   \"SCF-Mixer-weight\":  \"0.02\",\n",
    "   \"SCF-Mix\":   \"density\",\n",
    "   \"SCF-Mixer-kick\":  \"35\",\n",
    "   \"MD-VariableCell\":  \"F\",\n",
    "   \"MD-MaxCGDispl\":  \"0.3 Bohr\",\n",
    "   \"MD-MaxForceTol\":  \" 0.04000 eV/Ang\",\n",
    "    \"%block Geometry-Constraints\":\n",
    "    \"\"\"\n",
    "    atom  [1 -- 4]\n",
    "    %endblock Geometry-Constraints\"\"\"    \n",
    "    })\n",
    "#   \"DM-UseSaveDM\":  \"T\",\n",
    "#parameters.get_dict()\n",
    "#parent_calc_folder"
   ]
  },
  {
   "cell_type": "code",
   "execution_count": 23,
   "metadata": {
    "collapsed": true
   },
   "outputs": [],
   "source": [
    "#te=s.get_cif()"
   ]
  },
  {
   "cell_type": "code",
   "execution_count": 24,
   "metadata": {
    "collapsed": true
   },
   "outputs": [],
   "source": [
    "#te.export('/home/aakhtar/calculations/siesta/test-neb-aiida/neb-test/te','cif')"
   ]
  },
  {
   "cell_type": "code",
   "execution_count": 25,
   "metadata": {},
   "outputs": [
    {
     "data": {
      "text/plain": [
       "{'H': <PsfData: uuid: ff59cc29-55e8-45a0-a284-f5c3c945765f (pk: 521)>,\n",
       " 'O': <PsfData: uuid: 4e885319-c33a-42fb-ae15-6f923cb84c5a (pk: 3)>}"
      ]
     },
     "execution_count": 25,
     "metadata": {},
     "output_type": "execute_result"
    }
   ],
   "source": [
    "import os\n",
    "from aiida_siesta.data.psf import PsfData\n",
    "pseudo_file_to_species_map = [ (\"H.psf\", ['H']),(\"O.psf\", ['O'])]\n",
    "pseudos_dict = {}\n",
    "for fname, kinds, in pseudo_file_to_species_map:\n",
    "      absname = os.path.realpath(os.path.join(\"./\",fname))\n",
    "      pseudo, created = PsfData.get_or_create(absname, use_first=True)\n",
    "      for j in kinds:\n",
    "              pseudos_dict[j]=pseudo\n",
    "pseudos_dict"
   ]
  },
  {
   "cell_type": "code",
   "execution_count": 26,
   "metadata": {},
   "outputs": [
    {
     "data": {
      "text/plain": [
       "{'lua': <LUAData: uuid: 3e14cce9-fb6a-44a0-82a0-151a845f75c1 (pk: 547)>,\n",
       " 'images0': <LUAData: uuid: ae1f475b-bcae-40d6-bbd2-a9be11e92bd1 (pk: 523)>,\n",
       " 'images1': <LUAData: uuid: d2d8b658-2719-402e-b878-719817da62b2 (pk: 524)>,\n",
       " 'images2': <LUAData: uuid: d5001609-016f-4933-8725-2affad512080 (pk: 525)>,\n",
       " 'images3': <LUAData: uuid: c92f4a4e-77be-4359-9f93-ea16895d5a76 (pk: 526)>,\n",
       " 'images4': <LUAData: uuid: 460c54e9-a8f1-4813-a486-7e39a1a6ce7e (pk: 527)>,\n",
       " 'images5': <LUAData: uuid: 362afadf-68ec-4265-8e88-c9e90e951e4d (pk: 528)>,\n",
       " 'images6': <LUAData: uuid: 6b3a1114-6434-49f6-b291-eaf20e0314a2 (pk: 529)>}"
      ]
     },
     "execution_count": 26,
     "metadata": {},
     "output_type": "execute_result"
    }
   ],
   "source": [
    "from aiida_siesta.data.lua import LUAData\n",
    "lua_file_to_species_map = [ (\"neb.lua\", ['lua']),\n",
    "                            (\"image_0.xyz\", ['images0']),\n",
    "                            (\"image_1.xyz\", ['images1']),\n",
    "                            (\"image_2.xyz\", ['images2']),\n",
    "                            (\"image_3.xyz\", ['images3']),\n",
    "                            (\"image_4.xyz\", ['images4']),\n",
    "                            (\"image_5.xyz\", ['images5']),\n",
    "                            (\"image_6.xyz\", ['images6']),\n",
    "                          ]\n",
    "lua_dict = {}\n",
    "for fname, kinds, in lua_file_to_species_map:\n",
    "      absname = os.path.realpath(os.path.join(\"./\",fname))\n",
    "      lua, created = LUAData.get_or_create(absname, use_first=True)\n",
    "      for j in kinds:\n",
    "              lua_dict[j]=lua\n",
    "lua_dict"
   ]
  },
  {
   "cell_type": "code",
   "execution_count": 27,
   "metadata": {
    "collapsed": true
   },
   "outputs": [],
   "source": [
    "#luaDM={}\n",
    "#luaDM['DM1']=LUAData.get_or_create(\"image_6.xyz\",use_first=True)"
   ]
  },
  {
   "cell_type": "code",
   "execution_count": 28,
   "metadata": {
    "collapsed": true
   },
   "outputs": [],
   "source": [
    "#luaDM"
   ]
  },
  {
   "cell_type": "code",
   "execution_count": 29,
   "metadata": {},
   "outputs": [
    {
     "name": "stdout",
     "output_type": "stream",
     "text": [
      "/home/aakhtar/calculations/siesta/test-neb-aiida/with-remote-folder\r\n"
     ]
    }
   ],
   "source": [
    "!pwd"
   ]
  },
  {
   "cell_type": "code",
   "execution_count": 31,
   "metadata": {
    "collapsed": true
   },
   "outputs": [],
   "source": [
    "#from aiida.orm import SinglefileData\n",
    "#RemoteData(\"/home/aakhtar/calculations/siesta/test-neb-aiida/with-remote-folder/aiida.DM.1\")\n",
    "#RemoteData(\"/home/aakhtar/calculations/siesta/test-neb-aiida/with-remote-folder/aiida.DM.2\")\n",
    "#RemoteData(\"/home/aakhtar/calculations/siesta/test-neb-aiida/with-remote-folder/aiida.DM.3\")\n",
    "#RemoteData(\"/home/aakhtar/calculations/siesta/test-neb-aiida/with-remote-folder/aiida.DM.4\")\n",
    "#RemoteData(\"/home/aakhtar/calculations/siesta/test-neb-aiida/with-remote-folder/aiida.DM.5\")\n"
   ]
  },
  {
   "cell_type": "code",
   "execution_count": 33,
   "metadata": {
    "collapsed": true
   },
   "outputs": [],
   "source": [
    "#SinglefileData.store()\n",
    "#RemoteData.get_computer_name"
   ]
  },
  {
   "cell_type": "code",
   "execution_count": 34,
   "metadata": {
    "collapsed": true
   },
   "outputs": [],
   "source": [
    "#a.set_attribute(remote_computer=code.get_remote_computer)"
   ]
  },
  {
   "cell_type": "code",
   "execution_count": 35,
   "metadata": {
    "collapsed": true
   },
   "outputs": [],
   "source": [
    "from aiida.orm import Dict\n",
    "#'pao-basistype':'split',\n",
    "#'pao-splitnorm': 0.150,\n",
    "#'pao-energyshift': '0.020 Ry',\n",
    "basis_dict = {\n",
    "  \"%block PAO-Basis\":\n",
    "    \"\"\"\n",
    "O                     2     \n",
    " n=2   0   2                \n",
    "   3.305      2.510\n",
    "   1.000      1.000\n",
    " n=2   1   2 P   1                   \n",
    "   3.937      2.542\n",
    "   1.000      1.000\n",
    "H                     1              \n",
    " n=1   0   2 P   1                   \n",
    "   4.828      3.855\n",
    "   1.000      1.000\n",
    "%endblock PAO-Basis\"\"\",\n",
    "}\n",
    "\n",
    "basis = Dict(dict=basis_dict)\n",
    "from aiida.orm import KpointsData\n",
    "kpoints=KpointsData()\n",
    "kp_mesh = 5\n",
    "mesh_displ = 0.5 #optional\n",
    "#kpoints.set_kpoints_mesh([kp_mesh,kp_mesh,kp_mesh],[mesh_displ,mesh_displ,mesh_displ])\n",
    "kpoints.set_kpoints_mesh([1,1,1],[mesh_displ,mesh_displ,mesh_displ])"
   ]
  },
  {
   "cell_type": "code",
   "execution_count": 36,
   "metadata": {
    "collapsed": true
   },
   "outputs": [],
   "source": [
    "settings_dict = {\n",
    "  'additional_retrieve_list': ['aiida.EIG', 'aiida.ORB_INDX','NEB.results','NEB.1.T'],\n",
    "}\n",
    "settings = Dict(dict=settings_dict)\n"
   ]
  },
  {
   "cell_type": "code",
   "execution_count": 37,
   "metadata": {
    "collapsed": true
   },
   "outputs": [],
   "source": [
    "from aiida_siesta.calculations.siesta import SiestaCalculation\n",
    "builder = SiestaCalculation.get_builder()"
   ]
  },
  {
   "cell_type": "code",
   "execution_count": 38,
   "metadata": {
    "collapsed": true
   },
   "outputs": [],
   "source": [
    "builder.code = code\n",
    "builder.structure = s\n",
    "builder.parameters = parameters\n",
    "builder.pseudos = pseudos_dict\n",
    "builder.basis = basis\n",
    "builder.kpoints = kpoints\n",
    "#builder.lua= folder\n",
    "builder.settings=settings\n",
    "builder.luafiles = lua_dict\n",
    "#builder.parent_calc_folder=RemoteData\n",
    "#builder.parent_calc_folder=RemoteData"
   ]
  },
  {
   "cell_type": "code",
   "execution_count": 39,
   "metadata": {},
   "outputs": [
    {
     "name": "stdout",
     "output_type": "stream",
     "text": [
      "{'metadata': {'options': {}}, 'pseudos': {'H': <PsfData: uuid: ff59cc29-55e8-45a0-a284-f5c3c945765f (pk: 521)>, 'O': <PsfData: uuid: 4e885319-c33a-42fb-ae15-6f923cb84c5a (pk: 3)>}, 'luafiles': {'lua': <LUAData: uuid: 3e14cce9-fb6a-44a0-82a0-151a845f75c1 (pk: 547)>, 'images0': <LUAData: uuid: ae1f475b-bcae-40d6-bbd2-a9be11e92bd1 (pk: 523)>, 'images1': <LUAData: uuid: d2d8b658-2719-402e-b878-719817da62b2 (pk: 524)>, 'images2': <LUAData: uuid: d5001609-016f-4933-8725-2affad512080 (pk: 525)>, 'images3': <LUAData: uuid: c92f4a4e-77be-4359-9f93-ea16895d5a76 (pk: 526)>, 'images4': <LUAData: uuid: 460c54e9-a8f1-4813-a486-7e39a1a6ce7e (pk: 527)>, 'images5': <LUAData: uuid: 362afadf-68ec-4265-8e88-c9e90e951e4d (pk: 528)>, 'images6': <LUAData: uuid: 6b3a1114-6434-49f6-b291-eaf20e0314a2 (pk: 529)>}, 'code': <Code: Remote code 'siesta-psml-lua' on N552VW, pk: 403, uuid: 872001d8-73fb-4b50-be30-4b947bd271b1>, 'structure': <StructureData: uuid: 98f6a5fe-b8a2-49ad-9f96-185a7bc5b1bf (unstored)>, 'parameters': <Dict: uuid: 3625d4b8-99f9-46ef-bfe1-d5f9a9ca6cb4 (unstored)>, 'basis': <Dict: uuid: 6b417534-11c2-4326-a012-5e67cf95ed4c (unstored)>, 'kpoints': <KpointsData: uuid: c1939db0-ed15-4c8d-b6e7-c77cb5bfd2b8 (unstored)>, 'settings': <Dict: uuid: 832ce1d5-44dd-4496-b8a0-61695d63282c (unstored)>}\n"
     ]
    }
   ],
   "source": [
    "print(builder)"
   ]
  },
  {
   "cell_type": "code",
   "execution_count": 40,
   "metadata": {
    "collapsed": true
   },
   "outputs": [],
   "source": [
    "builder.metadata.options.resources = {'num_machines': 1,\n",
    "                                     \"num_mpiprocs_per_machine\": 6}\n",
    "builder.metadata.options.withmpi= True\n",
    "builder.metadata.options.max_wallclock_seconds = 864000\n",
    "builder.parent_calc_folder"
   ]
  },
  {
   "cell_type": "code",
   "execution_count": 41,
   "metadata": {
    "collapsed": true
   },
   "outputs": [],
   "source": [
    "from aiida.engine import run,submit #,submit_test\n",
    "results = run(builder)\n",
    "#results=submit_test(builder)"
   ]
  },
  {
   "cell_type": "code",
   "execution_count": 42,
   "metadata": {},
   "outputs": [
    {
     "data": {
      "text/plain": [
       "{'output_parameters': <Dict: uuid: 542b2104-32df-4cd8-bbd3-c4365706dbfb (pk: 587)>,\n",
       " 'output_structure': <StructureData: uuid: 23d855ef-656c-4ebb-9422-37c51d8c7b54 (pk: 588)>,\n",
       " 'forces_and_stress': <ArrayData: uuid: b854f2d8-b2d9-4f59-8f89-95965427390e (pk: 589)>,\n",
       " 'retrieved': <FolderData: uuid: b456e35e-be5a-4e53-a37f-bbc7bb810f24 (pk: 586)>,\n",
       " 'remote_folder': <RemoteData: uuid: eaea6ad9-20e2-4704-8429-7f2888b986ae (pk: 585)>}"
      ]
     },
     "execution_count": 42,
     "metadata": {},
     "output_type": "execute_result"
    }
   ],
   "source": [
    "results"
   ]
  },
  {
   "cell_type": "code",
   "execution_count": 43,
   "metadata": {},
   "outputs": [
    {
     "data": {
      "text/plain": [
       "<ArrayData: uuid: b854f2d8-b2d9-4f59-8f89-95965427390e (pk: 589)>"
      ]
     },
     "execution_count": 43,
     "metadata": {},
     "output_type": "execute_result"
    }
   ],
   "source": [
    "results['forces_and_stress']"
   ]
  },
  {
   "cell_type": "code",
   "execution_count": 116,
   "metadata": {},
   "outputs": [
    {
     "data": {
      "text/plain": [
       "<bound method Entity.get of <class 'aiida.orm.nodes.data.folder.FolderData'>>"
      ]
     },
     "execution_count": 116,
     "metadata": {},
     "output_type": "execute_result"
    }
   ],
   "source": [
    "results['retrieved']."
   ]
  },
  {
   "cell_type": "code",
   "execution_count": 66,
   "metadata": {},
   "outputs": [
    {
     "data": {
      "text/plain": [
       "565"
      ]
     },
     "execution_count": 66,
     "metadata": {},
     "output_type": "execute_result"
    }
   ],
   "source": [
    "results['output_parameters'].pk"
   ]
  },
  {
   "cell_type": "code",
   "execution_count": 44,
   "metadata": {},
   "outputs": [
    {
     "name": "stdout",
     "output_type": "stream",
     "text": [
      "\u001b[22mProperty     Value\n",
      "-----------  ------------------------------------\n",
      "type         SiestaCalculation\n",
      "state        Finished [0]\n",
      "pk           584\n",
      "uuid         733e96c5-090b-4718-804f-ca839db6012e\n",
      "label\n",
      "description\n",
      "ctime        2020-06-05 09:30:29.109962+00:00\n",
      "mtime        2020-06-05 09:52:34.253330+00:00\n",
      "computer     [1] N552VW\n",
      "\n",
      "Inputs       PK    Type\n",
      "-----------  ----  -------------\n",
      "luafiles\n",
      "    images6  529   LUAData\n",
      "    images5  528   LUAData\n",
      "    images4  527   LUAData\n",
      "    images3  526   LUAData\n",
      "    images2  525   LUAData\n",
      "    images1  524   LUAData\n",
      "    images0  523   LUAData\n",
      "    lua      547   LUAData\n",
      "pseudos\n",
      "    O        3     PsfData\n",
      "    H        521   PsfData\n",
      "basis        581   Dict\n",
      "code         403   Code\n",
      "kpoints      582   KpointsData\n",
      "parameters   580   Dict\n",
      "settings     583   Dict\n",
      "structure    579   StructureData\n",
      "\n",
      "Outputs              PK  Type\n",
      "-----------------  ----  -------------\n",
      "forces_and_stress   589  ArrayData\n",
      "output_parameters   587  Dict\n",
      "output_structure    588  StructureData\n",
      "remote_folder       585  RemoteData\n",
      "retrieved           586  FolderData\u001b[0m\n"
     ]
    }
   ],
   "source": [
    "!verdi process show 584"
   ]
  },
  {
   "cell_type": "code",
   "execution_count": 104,
   "metadata": {
    "collapsed": true
   },
   "outputs": [],
   "source": [
    "def NEB_Results(pk,Number_of_images):\n",
    "    from aiida.orm import load_node\n",
    "    neb_results_node=load_node(pk) #load_node('584')\n",
    "    neb_resutls_retrieved=neb_results_node.outputs.retrieved \n",
    "    neb_results=neb_resutls_retrieved.get_object_content('NEB.results')\n",
    "    Number_of_images=Number_of_images\n",
    "    data_temp=[]\n",
    "    data_temp.append(neb_results.splitlines())\n",
    "    data=[]\n",
    "    for line in range(len(data_temp[0])):\n",
    "            if line>2:\n",
    "                #print (line)\n",
    "                data.append(data_temp[0][line])\n",
    "    del data_temp\n",
    "    while '' in data:   #removing Null strings between each neb stage\n",
    "        data.remove('')\n",
    "    image_number=[]\n",
    "    reaction_coordinates=[]\n",
    "    Energy=[]\n",
    "    E_diff=[]\n",
    "    Curvature=[]\n",
    "    Max_Force=[]\n",
    "    for i in range(len(data)):\n",
    "        image_number.append(float(data[i].split()[0]))\n",
    "        reaction_coordinates.append(float(data[i].split()[1]))\n",
    "        Energy.append(float(data[i].split()[2]))\n",
    "        E_diff.append(float(data[i].split()[3]))\n",
    "        Curvature.append(float(data[i].split()[4]))\n",
    "        Max_Force.append(float(data[i].split()[5]))\n",
    "    #Last NEB\n",
    "    Total_Number=Number_of_images+2\n",
    "    shift=len(E_diff)-Total_Number\n",
    "    #-----------------------------------------------\n",
    "    # Final Values\n",
    "    #-----------------------------------------------\n",
    "    image_number_Final=np.array([])\n",
    "    reaction_coordinates_Final=np.array([])\n",
    "    Energy_Final=np.array([])\n",
    "    E_diff_Final=np.array([])\n",
    "    Curvature_Final=np.array([])\n",
    "    Max_Force_Final=np.array([])\n",
    "    for i in range(Total_Number):\n",
    "        image_number_Final=np.append(image_number_Final,int(image_number[shift+i]))\n",
    "        reaction_coordinates_Final=np.append(reaction_coordinates_Final,reaction_coordinates[shift+i])\n",
    "        E_diff_Final=np.append(E_diff_Final,E_diff[shift+i])\n",
    "        Energy_Final=np.append(Energy_Final,Energy[shift+i])\n",
    "        Curvature_Final=np.append(Curvature_Final,Curvature[shift+i])\n",
    "        Max_Force_Final=np.append(Max_Force_Final,Max_Force[shift+i])\n",
    "    min_neb=max(Energy_Final)\n",
    "    max_neb=min(Energy_Final)\n",
    "    Barrier=abs(max_neb-min_neb)\n",
    "    return (image_number_Final,\n",
    "            reaction_coordinates_Final,\n",
    "            E_diff_Final,\n",
    "            Energy_Final,\n",
    "            Curvature_Final,\n",
    "            Max_Force_Final,\n",
    "            Barrier)"
   ]
  },
  {
   "cell_type": "code",
   "execution_count": 105,
   "metadata": {},
   "outputs": [
    {
     "data": {
      "text/plain": [
       "(array([0., 1., 2., 3., 4., 5., 6.]),\n",
       " array([0.        , 0.71013424, 1.42013929, 2.13245406, 2.83897025,\n",
       "        3.54764721, 4.25729541]),\n",
       " array([ 0.        , -0.03945156, -0.04646856, -0.0162596 , -0.03643492,\n",
       "        -0.09788832, -0.1181499 ]),\n",
       " array([-931.67386317, -931.71331473, -931.72033173, -931.69012278,\n",
       "        -931.7102981 , -931.77175149, -931.79201308]),\n",
       " array([ 0.        ,  0.05276156, -0.02989586, -0.02052187,  0.07872529,\n",
       "         0.0964803 ,  0.        ]),\n",
       " array([0.        , 0.00800886, 0.01669669, 0.02160538, 0.02953163,\n",
       "        0.0354487 , 0.        ]),\n",
       " 0.11814990266998393)"
      ]
     },
     "execution_count": 105,
     "metadata": {},
     "output_type": "execute_result"
    }
   ],
   "source": [
    "NEB_Results('584',5)"
   ]
  },
  {
   "cell_type": "code",
   "execution_count": 100,
   "metadata": {},
   "outputs": [],
   "source": [
    "max_neb=max(NEB_Results('584',5)[3])\n",
    "min_neb=min(NEB_Results('584',5)[3])"
   ]
  },
  {
   "cell_type": "code",
   "execution_count": 101,
   "metadata": {},
   "outputs": [
    {
     "data": {
      "text/plain": [
       "0.11814990266998393"
      ]
     },
     "execution_count": 101,
     "metadata": {},
     "output_type": "execute_result"
    }
   ],
   "source": [
    "max_neb-min_neb"
   ]
  },
  {
   "cell_type": "code",
   "execution_count": 82,
   "metadata": {
    "collapsed": true
   },
   "outputs": [],
   "source": [
    "\n",
    "#-----------------------------------------------\n",
    "# Final For Plot\n",
    "#-----------------------------------------------"
   ]
  },
  {
   "cell_type": "code",
   "execution_count": 83,
   "metadata": {},
   "outputs": [
    {
     "data": {
      "text/plain": [
       "[array(-931.67386317),\n",
       " array(-931.71331473),\n",
       " array(-931.72033173),\n",
       " array(-931.69012278),\n",
       " array(-931.7102981),\n",
       " array(-931.77175149),\n",
       " array(-931.79201308)]"
      ]
     },
     "execution_count": 83,
     "metadata": {},
     "output_type": "execute_result"
    }
   ],
   "source": [
    "Energy_Final"
   ]
  },
  {
   "cell_type": "code",
   "execution_count": 76,
   "metadata": {},
   "outputs": [
    {
     "data": {
      "image/png": "[encoded data removed]",
      "text/plain": [
       "<Figure size 432x288 with 1 Axes>"
      ]
     },
     "metadata": {
      "needs_background": "light"
     },
     "output_type": "display_data"
    }
   ],
   "source": [
    "import os, shutil\n",
    "import matplotlib.pyplot as plt\n",
    "import numpy as np\n",
    "from scipy.interpolate import interp1d\n",
    "from scipy import interpolate\n",
    "im=[]\n",
    "x=[]\n",
    "y=[]\n",
    "y2=[]\n",
    "for i in range(Total_Number):\n",
    "    im.append(np.array(int(image_number[shift+i])))\n",
    "    x.append(np.array(reaction_coordinates[shift+i]))\n",
    "    y.append(np.array(E_diff[shift+i]))\n",
    "    y2.append(np.array(Energy[shift+i]))\n",
    "#xnew = np.linspace(0, 10, num=41, endpoint=True)\n",
    "#f = interp1d(x, y)\n",
    "xnew = np.linspace(0, x[len(x)-1], num=1000, endpoint=True)\n",
    "f1=interp1d(x, y,kind='linear')\n",
    "f2=interp1d(x, y, kind='cubic')\n",
    "f3=interp1d(x, y, kind='quadratic')\n",
    "\n",
    "#tck = interpolate.splrep(x, y, s=0)\n",
    "#ynew = interpolate.splev(x, tck, der=0)\n",
    "#plt.plot(x,ynew,'o',xnew,f3(xnew),\"-\")\n",
    "plt.plot(x,y,\"o\",xnew,f1(xnew),\"-\",xnew,f2(xnew),\"--\",xnew,f3(xnew),'r')\n",
    "plt.title(\"Barrier Energy = \"+str(max(E_diff))+\" eV\")\n",
    "plt.legend(['data', 'linear', 'cubic','quadratic'], loc='best')\n",
    "#plt.plot(x,y,\"o\",x,ynew,'+')\n",
    "plt.show()"
   ]
  },
  {
   "cell_type": "code",
   "execution_count": 81,
   "metadata": {},
   "outputs": [
    {
     "name": "stdout",
     "output_type": "stream",
     "text": [
      "*******************************************************************\n",
      "This is a test script written by A.Akhtar for Ploting NEB\n",
      "Email:arsalan.akhtar@icn2.cat\n",
      "*******************************************************************\n"
     ]
    },
    {
     "ename": "FileNotFoundError",
     "evalue": "[Errno 2] No such file or directory: 'NEB.results'",
     "output_type": "error",
     "traceback": [
      "\u001b[0;31m---------------------------------------------------------------------------\u001b[0m",
      "\u001b[0;31mFileNotFoundError\u001b[0m                         Traceback (most recent call last)",
      "\u001b[0;32m<ipython-input-81-306a63f85f83>\u001b[0m in \u001b[0;36m<module>\u001b[0;34m\u001b[0m\n\u001b[1;32m     27\u001b[0m \u001b[0mNAME_OF_NEB_RESULTS\u001b[0m\u001b[0;34m=\u001b[0m\u001b[0;34m'NEB.results'\u001b[0m\u001b[0;34m\u001b[0m\u001b[0;34m\u001b[0m\u001b[0m\n\u001b[1;32m     28\u001b[0m \u001b[0mdata\u001b[0m\u001b[0;34m=\u001b[0m\u001b[0;34m[\u001b[0m\u001b[0;34m]\u001b[0m\u001b[0;34m\u001b[0m\u001b[0;34m\u001b[0m\u001b[0m\n\u001b[0;32m---> 29\u001b[0;31m \u001b[0;32mwith\u001b[0m \u001b[0mopen\u001b[0m\u001b[0;34m(\u001b[0m\u001b[0mNAME_OF_NEB_RESULTS\u001b[0m\u001b[0;34m)\u001b[0m \u001b[0;32mas\u001b[0m \u001b[0mf\u001b[0m\u001b[0;34m:\u001b[0m\u001b[0;34m\u001b[0m\u001b[0;34m\u001b[0m\u001b[0m\n\u001b[0m\u001b[1;32m     30\u001b[0m     \u001b[0;32mfor\u001b[0m \u001b[0mind\u001b[0m\u001b[0;34m,\u001b[0m \u001b[0mline\u001b[0m \u001b[0;32min\u001b[0m \u001b[0menumerate\u001b[0m\u001b[0;34m(\u001b[0m\u001b[0mf\u001b[0m\u001b[0;34m,\u001b[0m \u001b[0;36m1\u001b[0m\u001b[0;34m)\u001b[0m\u001b[0;34m:\u001b[0m\u001b[0;34m\u001b[0m\u001b[0;34m\u001b[0m\u001b[0m\n\u001b[1;32m     31\u001b[0m         \u001b[0;32mif\u001b[0m \u001b[0mind\u001b[0m\u001b[0;34m>\u001b[0m\u001b[0;36m2\u001b[0m\u001b[0;34m:\u001b[0m\u001b[0;34m\u001b[0m\u001b[0;34m\u001b[0m\u001b[0m\n",
      "\u001b[0;31mFileNotFoundError\u001b[0m: [Errno 2] No such file or directory: 'NEB.results'"
     ]
    }
   ],
   "source": [
    "#==========================================================================\n",
    "# Script for Energy vs Basis calculation \n",
    "# Written by Arsalan Akhtar \n",
    "# ICN2 31-August-2017 v-0.1\n",
    "# ICN2 1-October-2018 v-0.2\n",
    "# ICN2 2-October-2018 v-0.3\n",
    "# ICN2 2-October-2018 v-0.4\n",
    "#==========================================================================\n",
    "# Libray imports\n",
    "import os, shutil\n",
    "import matplotlib.pyplot as plt\n",
    "import numpy as np\n",
    "from scipy.interpolate import interp1d\n",
    "from scipy import interpolate\n",
    "#==========================================================================\n",
    "#x_plot_min=\n",
    "#x_plot_max=\n",
    "\n",
    "\n",
    "# In[147]:\n",
    "\n",
    "print (\"*******************************************************************\")\n",
    "print (\"This is a test script written by A.Akhtar for Ploting NEB\")\n",
    "print (\"Email:arsalan.akhtar@icn2.cat\")\n",
    "print (\"*******************************************************************\")\n",
    "#%%\n",
    "NAME_OF_NEB_RESULTS='NEB.results'\n",
    "data=[]\n",
    "with open(NAME_OF_NEB_RESULTS) as f:\n",
    "    for ind, line in enumerate(f, 1):\n",
    "        if ind>2:\n",
    "            #print (line)\n",
    "            data.append(line)     \n",
    "while '\\n' in data:\n",
    "    data.remove('\\n')\n",
    "#%%\n",
    "image_number=[]\n",
    "reaction_coordinates=[]\n",
    "Energy=[]\n",
    "E_diff=[]\n",
    "Curvature=[]\n",
    "Max_Force=[]\n",
    "for i in range(len(data)):\n",
    "    image_number.append(float(data[i].split()[0]))\n",
    "    reaction_coordinates.append(float(data[i].split()[1]))\n",
    "    Energy.append(float(data[i].split()[2]))\n",
    "    E_diff.append(float(data[i].split()[3]))\n",
    "    Curvature.append(float(data[i].split()[4]))\n",
    "    Max_Force.append(float(data[i].split()[5]))\n",
    "#Last NEB\n",
    "Number_of_images=5\n",
    "Total_Number=Number_of_images+2\n",
    "shift=len(E_diff)-Total_Number\n",
    "\n",
    "im=[]\n",
    "x=[]\n",
    "y=[]\n",
    "y2=[]\n",
    "for i in range(Total_Number):\n",
    "    im.append(np.array(int(image_number[shift+i])))\n",
    "    x.append(np.array(reaction_coordinates[shift+i]))\n",
    "    y.append(np.array(E_diff[shift+i]))\n",
    "    y2.append(np.array(Energy[shift+i]))\n",
    "#xnew = np.linspace(0, 10, num=41, endpoint=True)\n",
    "#f = interp1d(x, y)\n",
    "xnew = np.linspace(0, x[len(x)-1], num=1000, endpoint=True)\n",
    "f1=interp1d(x, y,kind='linear')\n",
    "f2=interp1d(x, y, kind='cubic')\n",
    "f3=interp1d(x, y, kind='quadratic')\n",
    "\n",
    "#tck = interpolate.splrep(x, y, s=0)\n",
    "#ynew = interpolate.splev(x, tck, der=0)\n",
    "#plt.plot(x,ynew,'o',xnew,f3(xnew),\"-\")\n",
    "plt.plot(x,y,\"o\",xnew,f1(xnew),\"-\",xnew,f2(xnew),\"--\",xnew,f3(xnew),'r')\n",
    "plt.title(\"Barrier Energy = \"+str(max(E_diff))+\" eV\")\n",
    "plt.legend(['data', 'linear', 'cubic','quadratic'], loc='best')\n",
    "#plt.plot(x,y,\"o\",x,ynew,'+')\n",
    "plt.show()"
   ]
  },
  {
   "cell_type": "code",
   "execution_count": 80,
   "metadata": {},
   "outputs": [
    {
     "data": {
      "text/plain": [
       "[array(-931.67386317),\n",
       " array(-931.71331473),\n",
       " array(-931.72033173),\n",
       " array(-931.69012278),\n",
       " array(-931.7102981),\n",
       " array(-931.77175149),\n",
       " array(-931.79201308)]"
      ]
     },
     "execution_count": 80,
     "metadata": {},
     "output_type": "execute_result"
    }
   ],
   "source": [
    "y2"
   ]
  },
  {
   "cell_type": "code",
   "execution_count": null,
   "metadata": {},
   "outputs": [],
   "source": []
  },
  {
   "cell_type": "code",
   "execution_count": 26,
   "metadata": {
    "collapsed": true
   },
   "outputs": [],
   "source": [
    "#---------------------\n",
    "#Examples\n",
    "#------------------------\n",
    "#b=load_node('567')\n",
    "#b.get_arraynames()\n",
    "#b.get_array('forces')"
   ]
  },
  {
   "cell_type": "code",
   "execution_count": null,
   "metadata": {},
   "outputs": [],
   "source": []
  },
  {
   "cell_type": "code",
   "execution_count": null,
   "metadata": {},
   "outputs": [],
   "source": []
  },
  {
   "cell_type": "code",
   "execution_count": null,
   "metadata": {
    "collapsed": true
   },
   "outputs": [],
   "source": [
    "#---------------------------------\n",
    "#Example for sending DM or images\n",
    "#---------------------------------\n",
    "q=QueryBuilder\n",
    "q.append(computer)\n",
    "for i in q.iterall():\n",
    "    print (i)\n",
    "from aiida.orn import RemoteData\n",
    "a=RemoteData()\n",
    "a.computer=load_computer(2)\n",
    "a.set_remote_path(\"\")\n",
    "a.store()"
   ]
  },
  {
   "cell_type": "code",
   "execution_count": null,
   "metadata": {
    "collapsed": true
   },
   "outputs": [],
   "source": [
    "folder=load_node('')\n",
    "builer.parnet_calc_folder=folder"
   ]
  },
  {
   "cell_type": "code",
   "execution_count": null,
   "metadata": {
    "collapsed": true,
    "scrolled": true
   },
   "outputs": [],
   "source": []
  },
  {
   "cell_type": "code",
   "execution_count": null,
   "metadata": {
    "collapsed": true
   },
   "outputs": [],
   "source": []
  }
 ],
 "metadata": {
  "kernelspec": {
   "display_name": "Python 3",
   "language": "python",
   "name": "python3"
  },
  "language_info": {
   "codemirror_mode": {
    "name": "ipython",
    "version": 3
   },
   "file_extension": ".py",
   "mimetype": "text/x-python",
   "name": "python",
   "nbconvert_exporter": "python",
   "pygments_lexer": "ipython3",
   "version": "3.6.9"
  }
 },
 "nbformat": 4,
 "nbformat_minor": 4
}
