{
 "cells": [
  {
   "cell_type": "code",
   "execution_count": 2,
   "metadata": {},
   "outputs": [
    {
     "name": "stdout",
     "output_type": "stream",
     "text": [
      "\u001b[22mStarting the daemon... \u001b[0m\u001b[32m\u001b[1mRUNNING\u001b[0m\n"
     ]
    }
   ],
   "source": [
    "!reentry scan -r aiida\n",
    "!verdi daemon start"
   ]
  },
  {
   "cell_type": "code",
   "execution_count": 3,
   "metadata": {
    "collapsed": true
   },
   "outputs": [],
   "source": [
    "import aiida\n",
    "from aiida.orm import Code\n",
    "aiida.load_profile()\n",
    "#!verdi code list\n",
    "#code = Code.get_from_string('siesta-psml-support@N552VW')\n",
    "code = Code.get_from_string('siesta-psml-lua@N552VW')\n",
    "#print(code)\n",
    "from aiida.orm import StructureData\n",
    "cell = [[15.0, 0.0, 0.0,],\n",
    "        [ 0.0,15.0, 0.0,],\n",
    "        [ 0.0, 0.0,15.0,],\n",
    "        ]\n",
    "s = StructureData(cell=cell)\n",
    "s.append_atom(position=( 0.000 , 0.000 , 0.000 ),symbols=['O']) #1\n",
    "s.append_atom(position=( 0.757 , 0.586 , 0.000 ),symbols=['H']) #2\n",
    "s.append_atom(position=(-0.757 , 0.586 , 0.000),symbols=['H']) #3 \n",
    "s.append_atom(position=( 0.000 , 3.500 , 0.000),symbols=['O']) #4\n",
    "s.append_atom(position=( 0.757 , 2.914 , 0.000 ),symbols=['H']) #5\n",
    "s.append_atom(position=(-0.757 , 2.914 , 0.000),symbols=['H']) #6\n",
    "\n",
    "#s.get_pymatgen_structure()\n",
    "from aiida.orm import Dict\n",
    "parameters = Dict(dict={\n",
    "   \"mesh-cutoff\": \"250 Ry\",\n",
    "   \"dm-tolerance\": \"0.0001\",\n",
    "   \"MD-TypeOfRun\":   \"LUA\",\n",
    "   \"LUA-script\":   \"neb.lua\",\n",
    "   \"DM-NumberPulay \":  \"3\",\n",
    "   \"DM-History-Depth\":  \"0\",\n",
    "   \"SCF-Mixer-weight\":  \"0.02\",\n",
    "   \"SCF-Mix\":   \"density\",\n",
    "   \"SCF-Mixer-kick\":  \"35\",\n",
    "   \"MD-VariableCell\":  \"F\",\n",
    "   \"MD-MaxCGDispl\":  \"0.3 Bohr\",\n",
    "   \"MD-MaxForceTol\":  \" 0.04000 eV/Ang\",\n",
    "    \"%block Geometry-Constraints\":\n",
    "    \"\"\"\n",
    "    atom  [1 -- 4]\n",
    "    %endblock Geometry-Constraints\"\"\"    \n",
    "    })\n",
    "#   \"DM-UseSaveDM\":  \"T\",\n",
    "#parameters.get_dict()\n",
    "#parent_calc_folder"
   ]
  },
  {
   "cell_type": "code",
   "execution_count": null,
   "metadata": {},
   "outputs": [],
   "source": []
  },
  {
   "cell_type": "code",
   "execution_count": 4,
   "metadata": {},
   "outputs": [],
   "source": [
    "te=s.get_cif()"
   ]
  },
  {
   "cell_type": "code",
   "execution_count": 20,
   "metadata": {},
   "outputs": [
    {
     "data": {
      "text/plain": [
       "['/home/aakhtar/calculations/siesta/test-neb-aiida/neb-test/te']"
      ]
     },
     "execution_count": 20,
     "metadata": {},
     "output_type": "execute_result"
    }
   ],
   "source": [
    "te.export('/home/aakhtar/calculations/siesta/test-neb-aiida/neb-test/te','cif')"
   ]
  },
  {
   "cell_type": "code",
   "execution_count": 5,
   "metadata": {},
   "outputs": [
    {
     "data": {
      "text/plain": [
       "{'H': <PsfData: uuid: ff59cc29-55e8-45a0-a284-f5c3c945765f (pk: 521)>,\n",
       " 'O': <PsfData: uuid: 4e885319-c33a-42fb-ae15-6f923cb84c5a (pk: 3)>}"
      ]
     },
     "execution_count": 5,
     "metadata": {},
     "output_type": "execute_result"
    }
   ],
   "source": [
    "import os\n",
    "from aiida_siesta.data.psf import PsfData\n",
    "pseudo_file_to_species_map = [ (\"H.psf\", ['H']),(\"O.psf\", ['O'])]\n",
    "pseudos_dict = {}\n",
    "for fname, kinds, in pseudo_file_to_species_map:\n",
    "      absname = os.path.realpath(os.path.join(\"./\",fname))\n",
    "      pseudo, created = PsfData.get_or_create(absname, use_first=True)\n",
    "      for j in kinds:\n",
    "              pseudos_dict[j]=pseudo\n",
    "pseudos_dict"
   ]
  },
  {
   "cell_type": "code",
   "execution_count": 6,
   "metadata": {},
   "outputs": [
    {
     "data": {
      "text/plain": [
       "{'lua': <LUAData: uuid: 3e14cce9-fb6a-44a0-82a0-151a845f75c1 (pk: 547)>,\n",
       " 'images0': <LUAData: uuid: ae1f475b-bcae-40d6-bbd2-a9be11e92bd1 (pk: 523)>,\n",
       " 'images1': <LUAData: uuid: d2d8b658-2719-402e-b878-719817da62b2 (pk: 524)>,\n",
       " 'images2': <LUAData: uuid: d5001609-016f-4933-8725-2affad512080 (pk: 525)>,\n",
       " 'images3': <LUAData: uuid: c92f4a4e-77be-4359-9f93-ea16895d5a76 (pk: 526)>,\n",
       " 'images4': <LUAData: uuid: 460c54e9-a8f1-4813-a486-7e39a1a6ce7e (pk: 527)>,\n",
       " 'images5': <LUAData: uuid: 362afadf-68ec-4265-8e88-c9e90e951e4d (pk: 528)>,\n",
       " 'images6': <LUAData: uuid: 6b3a1114-6434-49f6-b291-eaf20e0314a2 (pk: 529)>}"
      ]
     },
     "execution_count": 6,
     "metadata": {},
     "output_type": "execute_result"
    }
   ],
   "source": [
    "from aiida_siesta.data.lua import LUAData\n",
    "lua_file_to_species_map = [ (\"neb.lua\", ['lua']),\n",
    "                            (\"image_0.xyz\", ['images0']),\n",
    "                            (\"image_1.xyz\", ['images1']),\n",
    "                            (\"image_2.xyz\", ['images2']),\n",
    "                            (\"image_3.xyz\", ['images3']),\n",
    "                            (\"image_4.xyz\", ['images4']),\n",
    "                            (\"image_5.xyz\", ['images5']),\n",
    "                            (\"image_6.xyz\", ['images6'])\n",
    "                          ]\n",
    "lua_dict = {}\n",
    "for fname, kinds, in lua_file_to_species_map:\n",
    "      absname = os.path.realpath(os.path.join(\"./\",fname))\n",
    "      lua, created = LUAData.get_or_create(absname, use_first=True)\n",
    "      for j in kinds:\n",
    "              lua_dict[j]=lua\n",
    "lua_dict"
   ]
  },
  {
   "cell_type": "code",
   "execution_count": 7,
   "metadata": {
    "collapsed": true
   },
   "outputs": [],
   "source": [
    "from aiida.orm import Dict\n",
    "#'pao-basistype':'split',\n",
    "#'pao-splitnorm': 0.150,\n",
    "#'pao-energyshift': '0.020 Ry',\n",
    "basis_dict = {\n",
    "  \"%block PAO-Basis\":\n",
    "    \"\"\"\n",
    "O                     2     \n",
    " n=2   0   2                \n",
    "   3.305      2.510\n",
    "   1.000      1.000\n",
    " n=2   1   2 P   1                   \n",
    "   3.937      2.542\n",
    "   1.000      1.000\n",
    "H                     1              \n",
    " n=1   0   2 P   1                   \n",
    "   4.828      3.855\n",
    "   1.000      1.000\n",
    "%endblock PAO-Basis\"\"\",\n",
    "}\n",
    "\n",
    "basis = Dict(dict=basis_dict)\n",
    "from aiida.orm import KpointsData\n",
    "kpoints=KpointsData()\n",
    "kp_mesh = 5\n",
    "mesh_displ = 0.5 #optional\n",
    "#kpoints.set_kpoints_mesh([kp_mesh,kp_mesh,kp_mesh],[mesh_displ,mesh_displ,mesh_displ])\n",
    "kpoints.set_kpoints_mesh([1,1,1],[mesh_displ,mesh_displ,mesh_displ])"
   ]
  },
  {
   "cell_type": "code",
   "execution_count": 8,
   "metadata": {
    "collapsed": true
   },
   "outputs": [],
   "source": [
    "from aiida_siesta.calculations.siesta import SiestaCalculation\n",
    "builder = SiestaCalculation.get_builder()"
   ]
  },
  {
   "cell_type": "code",
   "execution_count": 9,
   "metadata": {
    "collapsed": true
   },
   "outputs": [],
   "source": [
    "builder.code = code\n",
    "builder.structure = s\n",
    "builder.parameters = parameters\n",
    "builder.pseudos = pseudos_dict\n",
    "builder.basis = basis\n",
    "builder.kpoints = kpoints\n",
    "#builder.lua= folder\n",
    "\n",
    "builder.luafiles = lua_dict\n",
    "#builder.luafiles= lua_dict['lua']\n",
    "#builder.luafiles= lua_dict['images0']"
   ]
  },
  {
   "cell_type": "code",
   "execution_count": 10,
   "metadata": {},
   "outputs": [
    {
     "name": "stdout",
     "output_type": "stream",
     "text": [
      "{'metadata': {'options': {}}, 'pseudos': {'H': <PsfData: uuid: ff59cc29-55e8-45a0-a284-f5c3c945765f (pk: 521)>, 'O': <PsfData: uuid: 4e885319-c33a-42fb-ae15-6f923cb84c5a (pk: 3)>}, 'luafiles': {'lua': <LUAData: uuid: 3e14cce9-fb6a-44a0-82a0-151a845f75c1 (pk: 547)>, 'images0': <LUAData: uuid: ae1f475b-bcae-40d6-bbd2-a9be11e92bd1 (pk: 523)>, 'images1': <LUAData: uuid: d2d8b658-2719-402e-b878-719817da62b2 (pk: 524)>, 'images2': <LUAData: uuid: d5001609-016f-4933-8725-2affad512080 (pk: 525)>, 'images3': <LUAData: uuid: c92f4a4e-77be-4359-9f93-ea16895d5a76 (pk: 526)>, 'images4': <LUAData: uuid: 460c54e9-a8f1-4813-a486-7e39a1a6ce7e (pk: 527)>, 'images5': <LUAData: uuid: 362afadf-68ec-4265-8e88-c9e90e951e4d (pk: 528)>, 'images6': <LUAData: uuid: 6b3a1114-6434-49f6-b291-eaf20e0314a2 (pk: 529)>}, 'code': <Code: Remote code 'siesta-psml-lua' on N552VW, pk: 403, uuid: 872001d8-73fb-4b50-be30-4b947bd271b1>, 'structure': <StructureData: uuid: b1d71699-c8da-4470-b1fd-66e094841858 (unstored)>, 'parameters': <Dict: uuid: a401e132-7890-4930-b02e-093833619573 (unstored)>, 'basis': <Dict: uuid: 960efd4f-2792-4c59-a535-5c6dfa54074b (unstored)>, 'kpoints': <KpointsData: uuid: 94dc5a94-c8a5-47fe-b4ec-210ac4514cba (unstored)>}\n"
     ]
    }
   ],
   "source": [
    "print(builder)"
   ]
  },
  {
   "cell_type": "code",
   "execution_count": 11,
   "metadata": {
    "collapsed": true
   },
   "outputs": [],
   "source": [
    "builder.metadata.options.resources = {'num_machines': 1,\n",
    "                                     \"num_mpiprocs_per_machine\": 6}\n",
    "builder.metadata.options.withmpi= True\n",
    "builder.metadata.options.max_wallclock_seconds = 864000\n",
    "builder.parent_calc_folder"
   ]
  },
  {
   "cell_type": "code",
   "execution_count": 12,
   "metadata": {
    "collapsed": true
   },
   "outputs": [],
   "source": [
    "from aiida.engine import run,submit #,submit_test\n",
    "results = run(builder)\n",
    "#results=submit_test(builder)"
   ]
  },
  {
   "cell_type": "code",
   "execution_count": 13,
   "metadata": {},
   "outputs": [
    {
     "data": {
      "text/plain": [
       "{'output_parameters': <Dict: uuid: f6428148-1227-4fbb-8f0d-da7d8aa8c397 (pk: 555)>,\n",
       " 'output_structure': <StructureData: uuid: ddcc566b-77e9-413a-abfd-f1a53043eeb0 (pk: 556)>,\n",
       " 'forces_and_stress': <ArrayData: uuid: 53602c5e-da52-4f8c-8342-ac1002b1a57c (pk: 557)>,\n",
       " 'retrieved': <FolderData: uuid: ad3895d2-b926-481a-90a2-b57daf30b63d (pk: 554)>,\n",
       " 'remote_folder': <RemoteData: uuid: d85e40da-4ca4-4e33-8382-d970c5be4385 (pk: 553)>}"
      ]
     },
     "execution_count": 13,
     "metadata": {},
     "output_type": "execute_result"
    }
   ],
   "source": [
    "results"
   ]
  },
  {
   "cell_type": "code",
   "execution_count": 37,
   "metadata": {},
   "outputs": [
    {
     "data": {
      "text/plain": [
       "<ArrayData: uuid: 773d2065-a427-4240-a9fd-74d5c4b0d0e0 (pk: 546)>"
      ]
     },
     "execution_count": 37,
     "metadata": {},
     "output_type": "execute_result"
    }
   ],
   "source": [
    "results['forces_and_stress']"
   ]
  },
  {
   "cell_type": "code",
   "execution_count": null,
   "metadata": {
    "collapsed": true
   },
   "outputs": [],
   "source": []
  },
  {
   "cell_type": "code",
   "execution_count": null,
   "metadata": {
    "collapsed": true
   },
   "outputs": [],
   "source": [
    "lname=[]\n",
    "for name in lua_dict.keys():\n",
    "    print (name)\n",
    "    lname.append(name)"
   ]
  },
  {
   "cell_type": "code",
   "execution_count": null,
   "metadata": {
    "collapsed": true
   },
   "outputs": [],
   "source": [
    "lname\n",
    "#kinds=[kind.name for kind in lua_dict.keys()]"
   ]
  },
  {
   "cell_type": "code",
   "execution_count": null,
   "metadata": {
    "collapsed": true
   },
   "outputs": [],
   "source": [
    "for l in lname:\n",
    "    print (l)"
   ]
  },
  {
   "cell_type": "code",
   "execution_count": null,
   "metadata": {
    "collapsed": true
   },
   "outputs": [],
   "source": []
  },
  {
   "cell_type": "code",
   "execution_count": null,
   "metadata": {
    "collapsed": true
   },
   "outputs": [],
   "source": []
  },
  {
   "cell_type": "code",
   "execution_count": null,
   "metadata": {
    "collapsed": true
   },
   "outputs": [],
   "source": [
    "#from aiida_siesta.calculations import siesta"
   ]
  },
  {
   "cell_type": "code",
   "execution_count": null,
   "metadata": {
    "collapsed": true
   },
   "outputs": [],
   "source": [
    "#siesta.SiestaCalculation.prepare_for_submission"
   ]
  },
  {
   "cell_type": "code",
   "execution_count": null,
   "metadata": {
    "collapsed": true
   },
   "outputs": [],
   "source": [
    "#from aiida.orm import SinglefileData"
   ]
  },
  {
   "cell_type": "code",
   "execution_count": null,
   "metadata": {
    "collapsed": true
   },
   "outputs": [],
   "source": [
    "#folder=SinglefileData(file=\"/home/aakhtar/calculations/siesta/test-aiida/relax_cell_geometry.lua\",filename=\"relax_cell_geometry.lua\")"
   ]
  },
  {
   "cell_type": "code",
   "execution_count": null,
   "metadata": {
    "collapsed": true
   },
   "outputs": [],
   "source": [
    "#folder.get_attribute"
   ]
  },
  {
   "cell_type": "code",
   "execution_count": null,
   "metadata": {
    "collapsed": true
   },
   "outputs": [],
   "source": [
    "#Testing many filesimage0=SinglefileData(file=\"/home/aakhtar/calculations/siesta/test-aiida/image-iddp-wg-0.xyz\",filename=\"image-iddp-wg-0.xyz\")\n",
    "#folder=image0=SinglefileData(file=\"/home/aakhtar/calculations/siesta/test-aiida/image-iddp-wg-0.xyz\",filename=\"image-iddp-wg-0.xyz\")\n"
   ]
  },
  {
   "cell_type": "code",
   "execution_count": null,
   "metadata": {
    "collapsed": true
   },
   "outputs": [],
   "source": [
    "#image0=SinglefileData(file=\"/home/aakhtar/calculations/siesta/test-aiida/image-iddp-wg-0.xyz\",filename=\"image-iddp-wg-0.xyz\")\n",
    "#image1=SinglefileData(file=\"/home/aakhtar/calculations/siesta/test-aiida/image-iddp-wg-1.xyz\",filename=\"image-iddp-wg-1.xyz\")\n",
    "#image2=SinglefileData(file=\"/home/aakhtar/calculations/siesta/test-aiida/image-iddp-wg-2.xyz\",filename=\"image-iddp-wg-2.xyz\")\n",
    "#image3=SinglefileData(file=\"/home/aakhtar/calculations/siesta/test-aiida/image-iddp-wg-3.xyz\",filename=\"image-iddp-wg-3.xyz\")\n",
    "#image4=SinglefileData(file=\"/home/aakhtar/calculations/siesta/test-aiida/image-iddp-wg-4.xyz\",filename=\"image-iddp-wg-4.xyz\")\n",
    "#image5=SinglefileData(file=\"/home/aakhtar/calculations/siesta/test-aiida/image-iddp-wg-5.xyz\",filename=\"image-iddp-wg-5.xyz\")\n",
    "#image6=SinglefileData(file=\"/home/aakhtar/calculations/siesta/test-aiida/image-iddp-wg-6.xyz\",filename=\"image-iddp-wg-6.xyz\")"
   ]
  },
  {
   "cell_type": "code",
   "execution_count": null,
   "metadata": {
    "collapsed": true
   },
   "outputs": [],
   "source": []
  },
  {
   "cell_type": "code",
   "execution_count": null,
   "metadata": {
    "collapsed": true
   },
   "outputs": [],
   "source": []
  },
  {
   "cell_type": "code",
   "execution_count": null,
   "metadata": {
    "collapsed": true,
    "scrolled": true
   },
   "outputs": [],
   "source": [
    "from aiida_siesta.calculations.siesta import SiestaCalculation\n",
    "builder = SiestaCalculation.get_builder()"
   ]
  },
  {
   "cell_type": "code",
   "execution_count": null,
   "metadata": {
    "collapsed": true
   },
   "outputs": [],
   "source": [
    "builder.code = code\n",
    "builder.structure = s\n",
    "builder.parameters = parameters\n",
    "builder.pseudos = pseudos_dict\n",
    "builder.basis = basis\n",
    "builder.kpoints = kpoints\n",
    "#builder.lua= folder\n",
    "builder.luafiles= lua_dict\n",
    "#builder.luafiles= lua_dict['lua']\n",
    "#builder.lua= image1\n",
    "#builder.lua= image2\n",
    "#builder.lua= image3\n",
    "#builder.lua= image4\n",
    "#builder.lua= image5\n",
    "#builder.lua= image6\n"
   ]
  },
  {
   "cell_type": "code",
   "execution_count": null,
   "metadata": {
    "collapsed": true
   },
   "outputs": [],
   "source": [
    "builder"
   ]
  },
  {
   "cell_type": "code",
   "execution_count": null,
   "metadata": {
    "collapsed": true
   },
   "outputs": [],
   "source": [
    "builder.metadata.options.resources = {'num_machines': 1}\n",
    "builder.metadata.options.max_wallclock_seconds = 1800\n",
    "builder.parent_calc_folder"
   ]
  },
  {
   "cell_type": "code",
   "execution_count": null,
   "metadata": {
    "collapsed": true
   },
   "outputs": [],
   "source": []
  },
  {
   "cell_type": "code",
   "execution_count": null,
   "metadata": {
    "collapsed": true
   },
   "outputs": [],
   "source": [
    "from aiida.engine import run,submit#,submit_test\n",
    "results = run(builder)\n",
    "#results = submit(builder)\n",
    "#results=submit_"
   ]
  },
  {
   "cell_type": "code",
   "execution_count": null,
   "metadata": {
    "collapsed": true
   },
   "outputs": [],
   "source": [
    "results = run(builder)\n",
    "#results = submit(builder)\n",
    "#results=submit_"
   ]
  },
  {
   "cell_type": "code",
   "execution_count": null,
   "metadata": {
    "collapsed": true
   },
   "outputs": [],
   "source": [
    "results['remote_folder']"
   ]
  },
  {
   "cell_type": "code",
   "execution_count": null,
   "metadata": {
    "collapsed": true
   },
   "outputs": [],
   "source": [
    "results"
   ]
  },
  {
   "cell_type": "code",
   "execution_count": null,
   "metadata": {
    "collapsed": true
   },
   "outputs": [],
   "source": [
    "#results['output_parameters'].get_dict()"
   ]
  },
  {
   "cell_type": "code",
   "execution_count": null,
   "metadata": {
    "collapsed": true
   },
   "outputs": [],
   "source": [
    "#from aiida.engine import submit"
   ]
  },
  {
   "cell_type": "code",
   "execution_count": null,
   "metadata": {
    "collapsed": true
   },
   "outputs": [],
   "source": [
    "#results = submit(builder)"
   ]
  },
  {
   "cell_type": "code",
   "execution_count": null,
   "metadata": {
    "collapsed": true
   },
   "outputs": [],
   "source": [
    "#run(builder)"
   ]
  },
  {
   "cell_type": "code",
   "execution_count": null,
   "metadata": {
    "collapsed": true
   },
   "outputs": [],
   "source": []
  }
 ],
 "metadata": {
  "kernelspec": {
   "display_name": "Python 3",
   "language": "python",
   "name": "python3"
  },
  "language_info": {
   "codemirror_mode": {
    "name": "ipython",
    "version": 3
   },
   "file_extension": ".py",
   "mimetype": "text/x-python",
   "name": "python",
   "nbconvert_exporter": "python",
   "pygments_lexer": "ipython3",
   "version": "3.6.9"
  }
 },
 "nbformat": 4,
 "nbformat_minor": 4
}
