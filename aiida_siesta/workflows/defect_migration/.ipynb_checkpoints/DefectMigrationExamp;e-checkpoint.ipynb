{
 "cells": [
  {
   "cell_type": "code",
   "execution_count": 1,
   "metadata": {
    "collapsed": true
   },
   "outputs": [],
   "source": [
    "from __future__ import absolute_import\n",
    "import aiida"
   ]
  },
  {
   "cell_type": "code",
   "execution_count": 2,
   "metadata": {
    "collapsed": true
   },
   "outputs": [],
   "source": [
    "from aiida import load_profile\n",
    "load_profile()\n",
    "\n",
    "# Import commonly used functionality\n",
    "import numpy as np\n",
    "from aiida import orm, engine, common\n",
    "from aiida.plugins import WorkflowFactory\n",
    "from aiida.orm import Code\n",
    "\n"
   ]
  },
  {
   "cell_type": "code",
   "execution_count": 3,
   "metadata": {},
   "outputs": [
    {
     "name": "stdout",
     "output_type": "stream",
     "text": [
      "\u001b[22mRestarting the daemon... \u001b[0m\u001b[32m\u001b[1mOK\u001b[0m\n"
     ]
    }
   ],
   "source": [
    "!reentry scan\n",
    "!verdi daemon restart\n",
    "#!verdi daemon restart\n",
    "#!$JUPYTER_PATH\n",
    "#!export JUPYTER_PATH=\"/home/aakhtar/Projects/aiida-defects-siesta/siesta-defect-formation/aiida-workflow/formation_energy/;$JUPYTER_PATH\""
   ]
  },
  {
   "cell_type": "code",
   "execution_count": 4,
   "metadata": {
    "collapsed": true
   },
   "outputs": [],
   "source": [
    "from aiida_siesta.workflows.defect_migration.neb_siesta import BarrierEnergyWorkchainSIESTA\n",
    "#import .formation_energy_siesta\n",
    "#!pwd"
   ]
  },
  {
   "cell_type": "code",
   "execution_count": 5,
   "metadata": {},
   "outputs": [],
   "source": [
    "\n",
    "#!verdi code list\n",
    "#code = Code.get_from_string('siesta-psml-support@N552VW')\n",
    "code = Code.get_from_string('siesta-psml-lua@N552VW')\n",
    "#print(code)\n",
    "from aiida.orm import StructureData\n",
    "cell = [[ 9.9678210000 ,  0.0000000000 ,    0.0000000000,],\n",
    "        [-4.9839090000 ,  8.6323860000 ,    0.0000000000,],\n",
    "        [ 0.0000000000 ,  0.0000000000 ,  35.0000000000,],\n",
    "        ]\n",
    "host = StructureData(cell=cell)\n",
    "# 1.6613036650053632  0.959153999040846  17.5  1  1  Mg\n",
    "# 3.333333331578814e-07  1.918307998081692  17.5  2  2  O\n",
    "# 4.983911666666668  6.714078001918309  17.5  1  3  Mg\n",
    "# 3.322608334994638  7.673232000959154  17.5  2  4  O\n",
    "# 1.6613046600214534  6.714078001918309  17.5  1  5  Mg\n",
    "# 1.3283494233462534e-06  7.673232000959154  17.5  2  6  O\n",
    "# -1.6613023366559396  6.714078001918309  17.5  1  7  Mg\n",
    "# -3.32260566832797  7.673232000959154  17.5  2  8  O\n",
    "# 6.645214669989273  3.836615996163384  17.5  1  9  Mg\n",
    "# 4.983911338317244  4.79576999520423  17.5  2  10  O\n",
    "# 3.3226076633440593  3.836615996163384  17.5  1  11  Mg\n",
    "# 1.6613043316720297  4.79576999520423  17.5  2  12  O\n",
    "# 6.666666663157628e-07  3.836615996163384  17.5  1  13  Mg\n",
    "# -1.6613026650053635  4.79576999520423  17.5  2  14  O\n",
    " #8.30651766832797  0.959153999040846  17.5  1  15  Mg\n",
    "# 6.6452143366559415  1.918307998081692  17.5  2  16  O\n",
    "# 4.983910661682756  0.959153999040846  17.5  1  17  Mg\n",
    "# 3.3226073300107264  1.918307998081692  17.5  2  18  O\n",
    "\n",
    "host.append_atom(position=(1.6613036650053632 , 0.959153999040846  ,17.5 ),symbols=['Mg']) #1\n",
    "host.append_atom(position=(3.333333331578814e-07,  1.918307998081692,  17.5 ),symbols=['O'])  #2\n",
    "host.append_atom(position=(4.983911666666668 , 6.714078001918309  ,17.5 ),symbols=['Mg']) #3\n",
    "host.append_atom(position=(3.322608334994638 , 7.673232000959154  ,17.5),symbols=['O'])  #4\n",
    "host.append_atom(position=( 1.6613046600214534,  6.714078001918309 , 17.5  ),symbols=['Mg']) #5\n",
    "host.append_atom(position=( 1.3283494233462534e-06 , 7.673232000959154,  17.5  ),symbols=['O'])  #6\n",
    "host.append_atom(position=( -1.6613023366559396,  6.714078001918309 , 17.5  ),symbols=['Mg']) #7\n",
    "host.append_atom(position=( -3.32260566832797 , 7.673232000959154  ,17.5 ),symbols=['O'])  #8\n",
    "host.append_atom(position=(6.645214669989273 , 3.836615996163384  ,17.5),symbols=['Mg']) #9\n",
    "host.append_atom(position=(4.983911338317244 , 4.79576999520423  ,17.5),symbols=['O'])  #10\n",
    "host.append_atom(position=(3.3226076633440593 , 3.836615996163384  ,17.5 ),symbols=['Mg']) #11\n",
    "host.append_atom(position=( 1.6613043316720297 , 4.79576999520423  ,17.5),symbols=['O'])  #12\n",
    "host.append_atom(position=( 6.666666663157628e-07 , 3.836615996163384 , 17.5 ),symbols=['Mg']) #13\n",
    "host.append_atom(position=( -1.6613026650053635 , 4.79576999520423 , 17.5 ),symbols=['O'])  #14\n",
    "host.append_atom(position=(8.30651766832797 , 0.959153999040846 , 17.5 ),symbols=['Mg']) #15\n",
    "host.append_atom(position=( 6.6452143366559415 , 1.918307998081692  ,17.5 ),symbols=['O'])  #16\n",
    "host.append_atom(position=( 4.983910661682756 , 0.959153999040846  ,17.5),symbols=['Mg']) #17\n",
    "host.append_atom(position=( 3.3226073300107264 , 1.918307998081692 , 17.5),symbols=['O'])  #18\n",
    "\n",
    "#     0.222222222     0.111111111     0.500000000    1  1   Mg\n",
    "#     0.111111111     0.222222222     0.500000000    2  2   O\n",
    "#     0.888888889     0.777777778     0.500000000    1  3   Mg\n",
    "#     0.777777778     0.888888889     0.500000000    2  4   O\n",
    "#     0.555555555     0.777777778     0.500000000    1  5   Mg\n",
    "#     0.444444444     0.888888889     0.500000000    2  6   O\n",
    "#     0.222222222     0.777777778     0.500000000    1  7   Mg\n",
    "#     0.111111111     0.888888889     0.500000000    2  8   O  \n",
    "#     0.888888889     0.444444444     0.500000000    1  9   Mg\n",
    "#     0.777777778     0.555555555     0.500000000    2  10  O\n",
    "#     0.555555555     0.444444444     0.500000000    1  11  Mg\n",
    "#     0.444444444     0.555555555     0.500000000    2  12  O \n",
    "#     0.222222222     0.444444444     0.500000000    1  13  Mg\n",
    "#     0.111111111     0.555555555     0.500000000    2  14  O\n",
    "#     0.888888889     0.111111111     0.500000000    1  15  Mg\n",
    "#     0.777777778     0.222222222     0.500000000    2  16  O\n",
    "#     0.555555555     0.111111111     0.500000000    1  17  Mg\n",
    "#     0.444444444     0.222222222     0.500000000    2  18  O\n",
    "#s.append_atom(position=( 0.222222222 , 0.111111111 , 0.500000000 ),symbols=['Mg']) #1\n",
    "#s.append_atom(position=( 0.111111111 , 0.222222222 , 0.500000000 ),symbols=['O'])  #2\n",
    "#s.append_atom(position=( 0.888888889 , 0.777777778 , 0.500000000 ),symbols=['Mg']) #3\n",
    "#s.append_atom(position=( 0.777777778 , 0.888888889 , 0.500000000 ),symbols=['O'])  #4\n",
    "#s.append_atom(position=( 0.555555555 , 0.777777778 , 0.500000000 ),symbols=['Mg']) #5\n",
    "#s.append_atom(position=( 0.444444444 , 0.888888889 , 0.500000000 ),symbols=['O'])  #6\n",
    "#s.append_atom(position=( 0.222222222 , 0.777777778 , 0.500000000 ),symbols=['Mg']) #7\n",
    "#s.append_atom(position=( 0.111111111 , 0.888888889 , 0.500000000 ),symbols=['O'])  #8\n",
    "#s.append_atom(position=( 0.888888889 , 0.444444444 , 0.500000000 ),symbols=['Mg']) #9\n",
    "#s.append_atom(position=( 0.777777778 , 0.555555555 , 0.500000000 ),symbols=['O'])  #10\n",
    "#s.append_atom(position=( 0.555555555 , 0.444444444 , 0.500000000 ),symbols=['Mg']) #11\n",
    "#s.append_atom(position=( 0.444444444 , 0.555555555 , 0.500000000 ),symbols=['O'])  #12\n",
    "#s.append_atom(position=( 0.222222222 , 0.444444444 , 0.500000000 ),symbols=['Mg']) #13\n",
    "#s.append_atom(position=( 0.111111111 , 0.555555555 , 0.500000000 ),symbols=['O'])  #14\n",
    "#s.append_atom(position=( 0.888888889 , 0.111111111 , 0.500000000 ),symbols=['Mg']) #15\n",
    "#s.append_atom(position=( 0.777777778 , 0.222222222 , 0.500000000 ),symbols=['O'])  #16\n",
    "#s.append_atom(position=( 0.555555555 , 0.111111111 , 0.500000000 ),symbols=['Mg']) #17\n",
    "#s.append_atom(position=( 0.444444444 , 0.222222222 , 0.500000000 ),symbols=['O'])  #18\n",
    "\n",
    "\n",
    "#s.get_pymatgen_structure()\n",
    "from aiida.orm import Dict\n",
    "parameters = Dict(dict={\n",
    "   \"mesh-cutoff\": \"250 Ry\",\n",
    "   \"dm-tolerance\": \"0.0001\",\n",
    "   \"MD-TypeOfRun\":   \"cg\",\n",
    "   #\"LUA-script\":   \"neb.lua\",\n",
    "   \"DM-NumberPulay \":  \"3\",\n",
    "   \"DM-History-Depth\":  \"0\",\n",
    "   \"SCF-Mixer-weight\":  \"0.02\",\n",
    "   \"SCF-Mix\":   \"density\",\n",
    "   \"SCF-Mixer-kick\":  \"35\",\n",
    "   \"MD-VariableCell\":  \"F\",\n",
    "   \"MD-MaxCGDispl\":  \"0.3 Bohr\",\n",
    "   \"MD-MaxForceTol\":  \" 0.04000 eV/Ang\",\n",
    "    \"%block Geometry-Constraints\":\n",
    "    \"\"\"\n",
    "    atom  [1 -- 4]\n",
    "    %endblock Geometry-Constraints\"\"\"    \n",
    "    })\n",
    "#   \"DM-UseSaveDM\":  \"T\",\n",
    "#parameters.get_dict()\n",
    "#parent_calc_folder"
   ]
  },
  {
   "cell_type": "code",
   "execution_count": 6,
   "metadata": {
    "collapsed": true
   },
   "outputs": [],
   "source": [
    "from aiida.orm import Dict\n",
    "parameters_initial = Dict(dict={\n",
    "   \"mesh-cutoff\": \"250 Ry\",\n",
    "   \"dm-tolerance\": \"0.0001\",\n",
    "   \"MD-TypeOfRun\":   \"cg\",\n",
    "    \"MD-NumCGsteps\": \"5000\",\n",
    "   #\"LUA-script\":   \"neb.lua\",\n",
    "   \"DM-NumberPulay \":  \"3\",\n",
    "   \"DM-History-Depth\":  \"0\",\n",
    "   \"SCF-Mixer-weight\":  \"0.02\",\n",
    "   \"SCF-Mix\":   \"density\",\n",
    "   \"SCF-Mixer-kick\":  \"35\",\n",
    "   \"MD-VariableCell\":  \"F\",\n",
    "   \"MD-MaxCGDispl\":  \"0.3 Bohr\",\n",
    "   \"MD-MaxForceTol\":  \" 0.04000 eV/Ang\", \n",
    "    })\n",
    "parameters_final = Dict(dict={\n",
    "   \"mesh-cutoff\": \"250 Ry\",\n",
    "   \"dm-tolerance\": \"0.0001\",\n",
    "   \"MD-TypeOfRun\":   \"cg\",\n",
    "    \"MD-NumCGsteps\": \"5000\",\n",
    "   #\"LUA-script\":   \"neb.lua\",\n",
    "   \"DM-NumberPulay \":  \"3\",\n",
    "   \"DM-History-Depth\":  \"0\",\n",
    "   \"SCF-Mixer-weight\":  \"0.02\",\n",
    "   \"SCF-Mix\":   \"density\",\n",
    "   \"SCF-Mixer-kick\":  \"35\",\n",
    "   \"MD-VariableCell\":  \"F\",\n",
    "   \"MD-MaxCGDispl\":  \"0.3 Bohr\",\n",
    "   \"MD-MaxForceTol\":  \" 0.04000 eV/Ang\", \n",
    "    })"
   ]
  },
  {
   "cell_type": "code",
   "execution_count": 7,
   "metadata": {
    "collapsed": true
   },
   "outputs": [],
   "source": [
    "options_initial=Dict(dict={\n",
    "        \"max_wallclock_seconds\": 360000,\n",
    "        #'withmpi': True,\n",
    "        #'account': \"tcphy113c\",\n",
    "        #'queue_name': \"DevQ\",\n",
    "        \"resources\": {\n",
    "            \"num_machines\": 1,\n",
    "            \"num_mpiprocs_per_machine\": 1,\n",
    "        }\n",
    "    })\n",
    "options_final=Dict(dict={\n",
    "        \"max_wallclock_seconds\": 360000,\n",
    "        #'withmpi': True,\n",
    "        #'account': \"tcphy113c\",\n",
    "        #'queue_name': \"DevQ\",\n",
    "        \"resources\": {\n",
    "            \"num_machines\": 1,\n",
    "            \"num_mpiprocs_per_machine\": 1,\n",
    "        }\n",
    "    })"
   ]
  },
  {
   "cell_type": "code",
   "execution_count": 8,
   "metadata": {
    "collapsed": true
   },
   "outputs": [],
   "source": [
    "basis_dict_initial =Dict(dict= {\n",
    "'pao-basistype':'split',\n",
    "'pao-splitnorm': 0.150,\n",
    "'pao-energyshift': '0.020 Ry',\n",
    "'%block pao-basis-sizes':\n",
    "\"\"\"\n",
    "O DZP\n",
    "GhostO DZP\n",
    "Mg    DZP\n",
    "%endblock pao-basis-sizes\"\"\",\n",
    "})\n",
    "basis_dict_final = Dict(dict= {\n",
    "'pao-basistype':'split',\n",
    "'pao-splitnorm': 0.150,\n",
    "'pao-energyshift': '0.020 Ry',\n",
    "'%block pao-basis-sizes':\n",
    "\"\"\"\n",
    "O DZP\n",
    "GhostO DZP\n",
    "Mg    DZP\n",
    "%endblock pao-basis-sizes\"\"\",\n",
    "})"
   ]
  },
  {
   "cell_type": "code",
   "execution_count": 9,
   "metadata": {
    "collapsed": true
   },
   "outputs": [],
   "source": [
    "kpoints_initial = orm.KpointsData()\n",
    "kpoints_initial.set_kpoints_mesh([1,1,1]) # Definately not converged, but we want the example to run quickly\n",
    "kpoints_final = orm.KpointsData()\n",
    "kpoints_final.set_kpoints_mesh([1,1,1]) # Definately not converged, but we want the example to run quickly"
   ]
  },
  {
   "cell_type": "code",
   "execution_count": 10,
   "metadata": {},
   "outputs": [
    {
     "data": {
      "text/plain": [
       "{'Mg': <PsfData: uuid: 52123958-e3fa-424d-9c2d-485b86b91405 (pk: 2)>,\n",
       " 'GhostO': <PsfData: uuid: b39850fd-6f8d-4527-a833-7da70d51e7ee (pk: 3187)>,\n",
       " 'O': <PsfData: uuid: b39850fd-6f8d-4527-a833-7da70d51e7ee (pk: 3187)>}"
      ]
     },
     "execution_count": 10,
     "metadata": {},
     "output_type": "execute_result"
    }
   ],
   "source": [
    "import os\n",
    "from aiida_siesta.data.psf import PsfData\n",
    "#pseudo_file_to_species_map = [ (\"O.psf\", ['O'])]\n",
    "#pseudo_file_to_species_map = [ (\"H.psf\", ['H']),(\"O.psf\", ['O'])]\n",
    "pseudo_file_to_species_map = [ (\"Mg.psf\",[\"Mg\"]),(\"O.psf\",[\"GhostO\"]),(\"O.psf\", ['O'])]\n",
    "pseudos_dict = {}\n",
    "for fname, kinds, in pseudo_file_to_species_map:\n",
    "      absname = os.path.realpath(os.path.join(\"./pseudos\",fname))\n",
    "      pseudo, created = PsfData.get_or_create(absname, use_first=True)\n",
    "      for j in kinds:\n",
    "              pseudos_dict[j]=pseudo                \n",
    "pseudos_dict\n"
   ]
  },
  {
   "cell_type": "code",
   "execution_count": 11,
   "metadata": {},
   "outputs": [],
   "source": [
    "inputs = {\n",
    "    # Structures\n",
    "    \"host_structure\":host,\n",
    "    'initial_defect_site': orm.List(list=[6.64521434    ,   1.91830800  ,    17.50000000]),\n",
    "    'final_defect_site': orm.List(list=[3.32260733      , 1.91830800   ,   17.50000000]),\n",
    "    # Defect information \n",
    "     # Position of the defect in crystal coordinates\n",
    "    'barrier_scheme' : orm.Str(\"vacancy-exchange\"),                \n",
    "    'neb_scheme' : orm.Str(\"dneb\"),                \n",
    "    \"pseudos\":pseudos_dict,\n",
    "    # Computational (chosen code is SIESTA)\n",
    "    'siesta' : { 'dft': {'initial_image':{'code': code, 'kpoints': kpoints_initial, 'parameters' : parameters_initial,\n",
    "                                           'options':options_initial,\"basis\": basis_dict_initial},\n",
    "                         'final_image':{'code': code, 'kpoints': kpoints_final,'parameters' : parameters_final,\n",
    "                                                'options':options_final,\"basis\": basis_dict_final},\n",
    "}}}"
   ]
  },
  {
   "cell_type": "code",
   "execution_count": 12,
   "metadata": {},
   "outputs": [
    {
     "data": {
      "text/plain": [
       "{'host_structure': <StructureData: uuid: 15c439bd-d077-4346-b834-9a91864f1f50 (unstored)>,\n",
       " 'initial_defect_site': <List: uuid: cf0eb16a-6da8-4d5a-82c7-6da43f1cbe3e (unstored) value: [6.64521434, 1.918308, 17.5]>,\n",
       " 'final_defect_site': <List: uuid: 848875be-4d45-4a3d-965e-ece3ced1c6df (unstored) value: [3.32260733, 1.918308, 17.5]>,\n",
       " 'barrier_scheme': <Str: uuid: 17eecbdc-3d2a-426e-992b-db4acd29decb (unstored) value: vacancy-exchange>,\n",
       " 'neb_scheme': <Str: uuid: 2681422e-5386-47aa-8198-af79bff9267f (unstored) value: dneb>,\n",
       " 'pseudos': {'Mg': <PsfData: uuid: 52123958-e3fa-424d-9c2d-485b86b91405 (pk: 2)>,\n",
       "  'GhostO': <PsfData: uuid: b39850fd-6f8d-4527-a833-7da70d51e7ee (pk: 3187)>,\n",
       "  'O': <PsfData: uuid: b39850fd-6f8d-4527-a833-7da70d51e7ee (pk: 3187)>},\n",
       " 'siesta': {'dft': {'initial_image': {'code': <Code: Remote code 'siesta-psml-lua' on N552VW, pk: 403, uuid: 872001d8-73fb-4b50-be30-4b947bd271b1>,\n",
       "    'kpoints': <KpointsData: uuid: b0c30f8d-05d7-4ad1-a10e-acc2bf964dba (unstored)>,\n",
       "    'parameters': <Dict: uuid: 0ed6f7d3-90c7-4494-a3bc-c418f99d702d (unstored)>,\n",
       "    'options': <Dict: uuid: 5074980d-6a05-421b-9049-f7bac34ee63b (unstored)>,\n",
       "    'basis': <Dict: uuid: e0b6eaf2-ba1a-4311-8e23-009f9af29706 (unstored)>},\n",
       "   'final_image': {'code': <Code: Remote code 'siesta-psml-lua' on N552VW, pk: 403, uuid: 872001d8-73fb-4b50-be30-4b947bd271b1>,\n",
       "    'kpoints': <KpointsData: uuid: 11f5b8e7-d718-40ec-a892-2b8ff582578d (unstored)>,\n",
       "    'parameters': <Dict: uuid: 4e4e0ff0-052f-4e64-85ec-16313a9c652a (unstored)>,\n",
       "    'options': <Dict: uuid: bc088919-f737-4a1a-9f8e-0867dd6c9bce (unstored)>,\n",
       "    'basis': <Dict: uuid: 5d9dd4f8-91e5-4ad9-bc65-4c562dbd20f8 (unstored)>}}}}"
      ]
     },
     "execution_count": 12,
     "metadata": {},
     "output_type": "execute_result"
    }
   ],
   "source": [
    "inputs"
   ]
  },
  {
   "cell_type": "code",
   "execution_count": 13,
   "metadata": {},
   "outputs": [
    {
     "name": "stderr",
     "output_type": "stream",
     "text": [
      "/home/aakhtar/venv/aiida/lib/python3.6/site-packages/aiida/engine/processes/ports.py:111: UserWarning: default of input port `ghost` is a `Node` instance, which can lead to unexpected side effects. It is advised to use a lambda instead, e.g.: `default=lambda: orm.Int(5)`.\n",
      "  warnings.warn(UserWarning(message))  # pylint: disable=no-member\n",
      "/home/aakhtar/venv/aiida/lib/python3.6/site-packages/aiida/engine/processes/ports.py:111: UserWarning: default of input port `number_of_image` is a `Node` instance, which can lead to unexpected side effects. It is advised to use a lambda instead, e.g.: `default=lambda: orm.Int(5)`.\n",
      "  warnings.warn(UserWarning(message))  # pylint: disable=no-member\n",
      "/home/aakhtar/venv/aiida/lib/python3.6/site-packages/aiida/engine/processes/ports.py:111: UserWarning: default of input port `spring_constant` is a `Node` instance, which can lead to unexpected side effects. It is advised to use a lambda instead, e.g.: `default=lambda: orm.Int(5)`.\n",
      "  warnings.warn(UserWarning(message))  # pylint: disable=no-member\n",
      "/home/aakhtar/venv/aiida/lib/python3.6/site-packages/aiida/engine/processes/ports.py:111: UserWarning: default of input port `image_interpolation_method` is a `Node` instance, which can lead to unexpected side effects. It is advised to use a lambda instead, e.g.: `default=lambda: orm.Int(5)`.\n",
      "  warnings.warn(UserWarning(message))  # pylint: disable=no-member\n"
     ]
    }
   ],
   "source": [
    "workchain_future = engine.submit(BarrierEnergyWorkchainSIESTA, **inputs)"
   ]
  },
  {
   "cell_type": "code",
   "execution_count": 14,
   "metadata": {},
   "outputs": [
    {
     "data": {
      "text/plain": [
       "<WorkChainNode: uuid: 565392e4-9c5f-4215-b804-18aca20491e0 (pk: 3277) (aiida.workflows:siesta.neb_siesta)>"
      ]
     },
     "execution_count": 14,
     "metadata": {},
     "output_type": "execute_result"
    }
   ],
   "source": [
    "workchain_future"
   ]
  },
  {
   "cell_type": "code",
   "execution_count": null,
   "metadata": {
    "collapsed": true
   },
   "outputs": [],
   "source": []
  }
 ],
 "metadata": {
  "kernelspec": {
   "display_name": "Python 3",
   "language": "python",
   "name": "python3"
  },
  "language_info": {
   "codemirror_mode": {
    "name": "ipython",
    "version": 3
   },
   "file_extension": ".py",
   "mimetype": "text/x-python",
   "name": "python",
   "nbconvert_exporter": "python",
   "pygments_lexer": "ipython3",
   "version": "3.6.9"
  }
 },
 "nbformat": 4,
 "nbformat_minor": 4
}
