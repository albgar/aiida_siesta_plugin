{
 "cells": [
  {
   "cell_type": "code",
   "execution_count": 1,
   "metadata": {
    "collapsed": true
   },
   "outputs": [],
   "source": [
    "#from __future__ import absolute_import\n",
    "import aiida"
   ]
  },
  {
   "cell_type": "code",
   "execution_count": 2,
   "metadata": {
    "collapsed": true
   },
   "outputs": [],
   "source": [
    "from aiida import load_profile\n",
    "load_profile()\n",
    "\n",
    "# Import commonly used functionality\n",
    "import numpy as np\n",
    "from aiida import orm, engine, common\n",
    "from aiida.plugins import WorkflowFactory\n",
    "from aiida.orm import Code\n",
    "\n"
   ]
  },
  {
   "cell_type": "code",
   "execution_count": 3,
   "metadata": {},
   "outputs": [
    {
     "name": "stdout",
     "output_type": "stream",
     "text": [
      "/home/aakhtar/Projects/aiida_siesta_plugin_aakhtar/aiida_siesta/workflows/defect_formation\r\n"
     ]
    }
   ],
   "source": [
    "!pwd"
   ]
  },
  {
   "cell_type": "code",
   "execution_count": 4,
   "metadata": {},
   "outputs": [],
   "source": [
    "#!$JUPYTER_PATH\n",
    "#!export JUPYTER_PATH=\"/home/aakhtar/Projects/aiida-defects-siesta/siesta-defect-formation/aiida-workflow/formation_energy/;$JUPYTER_PATH\""
   ]
  },
  {
   "cell_type": "code",
   "execution_count": 5,
   "metadata": {},
   "outputs": [
    {
     "ename": "ImportError",
     "evalue": "attempted relative import with no known parent package",
     "output_type": "error",
     "traceback": [
      "\u001b[0;31m---------------------------------------------------------------------------\u001b[0m",
      "\u001b[0;31mImportError\u001b[0m                               Traceback (most recent call last)",
      "\u001b[0;32m<ipython-input-5-09821cb30310>\u001b[0m in \u001b[0;36m<module>\u001b[0;34m\u001b[0m\n\u001b[0;32m----> 1\u001b[0;31m \u001b[0;32mfrom\u001b[0m \u001b[0mformation_energy_siesta\u001b[0m \u001b[0;32mimport\u001b[0m \u001b[0mFormationEnergyWorkchainSIESTA\u001b[0m\u001b[0;34m\u001b[0m\u001b[0;34m\u001b[0m\u001b[0m\n\u001b[0m\u001b[1;32m      2\u001b[0m \u001b[0;31m#import .formation_energy_siesta\u001b[0m\u001b[0;34m\u001b[0m\u001b[0;34m\u001b[0m\u001b[0;34m\u001b[0m\u001b[0m\n\u001b[1;32m      3\u001b[0m \u001b[0;31m#!pwd\u001b[0m\u001b[0;34m\u001b[0m\u001b[0;34m\u001b[0m\u001b[0;34m\u001b[0m\u001b[0m\n",
      "\u001b[0;32m~/Projects/aiida_siesta_plugin_aakhtar/aiida_siesta/workflows/defect_formation/formation_energy_siesta.py\u001b[0m in \u001b[0;36m<module>\u001b[0;34m\u001b[0m\n\u001b[1;32m     15\u001b[0m \u001b[0;32mfrom\u001b[0m \u001b[0maiida_siesta\u001b[0m\u001b[0;34m.\u001b[0m\u001b[0mworkflows\u001b[0m\u001b[0;34m.\u001b[0m\u001b[0mbase\u001b[0m \u001b[0;32mimport\u001b[0m \u001b[0mSiestaBaseWorkChain\u001b[0m\u001b[0;34m\u001b[0m\u001b[0;34m\u001b[0m\u001b[0m\n\u001b[1;32m     16\u001b[0m \u001b[0;34m\u001b[0m\u001b[0m\n\u001b[0;32m---> 17\u001b[0;31m \u001b[0;32mfrom\u001b[0m \u001b[0mformation_energy_base\u001b[0m \u001b[0;32mimport\u001b[0m \u001b[0mFormationEnergyWorkchainBase\u001b[0m\u001b[0;34m\u001b[0m\u001b[0;34m\u001b[0m\u001b[0m\n\u001b[0m\u001b[1;32m     18\u001b[0m \u001b[0;32mfrom\u001b[0m \u001b[0mutils\u001b[0m \u001b[0;32mimport\u001b[0m \u001b[0mrun_siesta_calculation\u001b[0m\u001b[0;34m\u001b[0m\u001b[0;34m\u001b[0m\u001b[0m\n\u001b[1;32m     19\u001b[0m \u001b[0;32mfrom\u001b[0m \u001b[0mutils\u001b[0m \u001b[0;32mimport\u001b[0m \u001b[0mget_raw_formation_energy\u001b[0m\u001b[0;34m,\u001b[0m \u001b[0mget_corrected_formation_energy\u001b[0m\u001b[0;34m,\u001b[0m \u001b[0mget_corrected_aligned_formation_energy\u001b[0m\u001b[0;34m\u001b[0m\u001b[0;34m\u001b[0m\u001b[0m\n",
      "\u001b[0;32m~/Projects/aiida_siesta_plugin_aakhtar/aiida_siesta/workflows/defect_formation/formation_energy_base.py\u001b[0m in \u001b[0;36m<module>\u001b[0;34m\u001b[0m\n\u001b[1;32m     11\u001b[0m \u001b[0;32mfrom\u001b[0m \u001b[0maiida\u001b[0m\u001b[0;34m.\u001b[0m\u001b[0mengine\u001b[0m \u001b[0;32mimport\u001b[0m \u001b[0mWorkChain\u001b[0m\u001b[0;34m,\u001b[0m \u001b[0mcalcfunction\u001b[0m\u001b[0;34m,\u001b[0m \u001b[0mToContext\u001b[0m\u001b[0;34m,\u001b[0m \u001b[0mif_\u001b[0m\u001b[0;34m,\u001b[0m \u001b[0msubmit\u001b[0m\u001b[0;34m\u001b[0m\u001b[0;34m\u001b[0m\u001b[0m\n\u001b[1;32m     12\u001b[0m \u001b[0;34m\u001b[0m\u001b[0m\n\u001b[0;32m---> 13\u001b[0;31m from .utils import (\n\u001b[0m\u001b[1;32m     14\u001b[0m     \u001b[0mget_raw_formation_energy\u001b[0m\u001b[0;34m,\u001b[0m\u001b[0;34m\u001b[0m\u001b[0;34m\u001b[0m\u001b[0m\n\u001b[1;32m     15\u001b[0m     \u001b[0mget_corrected_formation_energy\u001b[0m\u001b[0;34m,\u001b[0m\u001b[0;34m\u001b[0m\u001b[0;34m\u001b[0m\u001b[0m\n",
      "\u001b[0;31mImportError\u001b[0m: attempted relative import with no known parent package"
     ]
    }
   ],
   "source": [
    "from formation_energy_siesta import FormationEnergyWorkchainSIESTA\n",
    "#import .formation_energy_siesta\n",
    "#!pwd"
   ]
  },
  {
   "cell_type": "code",
   "execution_count": 6,
   "metadata": {
    "collapsed": true
   },
   "outputs": [],
   "source": [
    "from aiida.orm import StructureData\n",
    "#Structure Pure\n",
    "cell = [[15.0, 0.0, 0.0,],\n",
    "        [ 0.0,15.0, 0.0,],\n",
    "        [ 0.0, 0.0,15.0,],\n",
    "        ]\n",
    "pure = StructureData(cell=cell)\n",
    "pure.append_atom(position=( 0.000 , 0.000 , 0.000 ),symbols=['O']) #1\n",
    "pure.append_atom(position=( 0.757 , 0.586 , 0.000 ),symbols=['H']) #2\n",
    "pure.append_atom(position=(-0.757 , 0.586 , 0.000),symbols=['H']) #3 \n",
    "pure.append_atom(position=( 0.000 , 3.500 , 0.000),symbols=['O']) #4\n",
    "pure.append_atom(position=( 0.757 , 2.914 , 0.000 ),symbols=['H']) #5\n",
    "pure.append_atom(position=(-0.757 , 2.914 , 0.000),symbols=['H']) #6\n",
    "\n",
    "\n",
    "defect=StructureData(cell=cell)\n",
    "defect.append_atom(position=( 0.000 , 0.000 , 0.000 ),symbols=['O']) #1\n",
    "defect.append_atom(position=( 0.757 , 0.586 , 0.000 ),symbols=['H']) #2\n",
    "defect.append_atom(position=(-0.757 , 0.586 , 0.000),symbols=['H']) #3 \n",
    "defect.append_atom(position=( 0.000 , 3.500 , 0.000),symbols=['O']) #4\n",
    "defect.append_atom(position=( 0.757 , 2.914 , 0.000 ),symbols=['H']) #5\n",
    "defect.append_atom(position=(-0.757 , 2.914 , 0.000),symbols=['H'],name=\"GhostH\") #6"
   ]
  },
  {
   "cell_type": "code",
   "execution_count": 7,
   "metadata": {
    "collapsed": true
   },
   "outputs": [],
   "source": [
    "code = Code.get_from_string('siesta-psml-lua@N552VW')\n",
    "charge=-2"
   ]
  },
  {
   "cell_type": "code",
   "execution_count": 8,
   "metadata": {
    "collapsed": true
   },
   "outputs": [],
   "source": [
    "from aiida.orm import Dict\n",
    "parameters_host = Dict(dict={\n",
    "   \"mesh-cutoff\": \"250 Ry\",\n",
    "   \"dm-tolerance\": \"0.0001\",\n",
    "   \"MD-TypeOfRun\":   \"LUA\",\n",
    "   \"LUA-script\":   \"neb.lua\",\n",
    "   \"DM-NumberPulay \":  \"3\",\n",
    "   \"DM-History-Depth\":  \"0\",\n",
    "   \"SCF-Mixer-weight\":  \"0.02\",\n",
    "   \"SCF-Mix\":   \"density\",\n",
    "   \"SCF-Mixer-kick\":  \"35\",\n",
    "   \"MD-VariableCell\":  \"F\",\n",
    "   \"MD-MaxCGDispl\":  \"0.3 Bohr\",\n",
    "   \"MD-MaxForceTol\":  \" 0.04000 eV/Ang\", \n",
    "    })\n",
    "parameters_defect_q0 = Dict(dict={\n",
    "   \"mesh-cutoff\": \"250 Ry\",\n",
    "   \"dm-tolerance\": \"0.0001\",\n",
    "   \"MD-TypeOfRun\":   \"LUA\",\n",
    "   \"LUA-script\":   \"neb.lua\",\n",
    "   \"DM-NumberPulay \":  \"3\",\n",
    "   \"DM-History-Depth\":  \"0\",\n",
    "   \"SCF-Mixer-weight\":  \"0.02\",\n",
    "   \"SCF-Mix\":   \"density\",\n",
    "   \"SCF-Mixer-kick\":  \"35\",\n",
    "   \"MD-VariableCell\":  \"F\",\n",
    "   \"MD-MaxCGDispl\":  \"0.3 Bohr\",\n",
    "   \"MD-MaxForceTol\":  \" 0.04000 eV/Ang\", \n",
    "   \"NetCharge\": \"0\",\n",
    "    })\n",
    "parameters_defect_q = Dict(dict={\n",
    "   \"mesh-cutoff\": \"250 Ry\",\n",
    "   \"dm-tolerance\": \"0.0001\",\n",
    "   \"MD-TypeOfRun\":   \"LUA\",\n",
    "   \"LUA-script\":   \"neb.lua\",\n",
    "   \"DM-NumberPulay \":  \"3\",\n",
    "   \"DM-History-Depth\":  \"0\",\n",
    "   \"SCF-Mixer-weight\":  \"0.02\",\n",
    "   \"SCF-Mix\":   \"density\",\n",
    "   \"SCF-Mixer-kick\":  \"35\",\n",
    "   \"MD-VariableCell\":  \"F\",\n",
    "   \"MD-MaxCGDispl\":  \"0.3 Bohr\",\n",
    "   \"MD-MaxForceTol\":  \" 0.04000 eV/Ang\",\n",
    "   \"NetCharge\": str(charge),\n",
    "    })\n",
    "options_host=Dict(\n",
    "    dict={\n",
    "        \"max_wallclock_seconds\": 360,\n",
    "        #'withmpi': True,\n",
    "        #'account': \"tcphy113c\",\n",
    "        #'queue_name': \"DevQ\",\n",
    "        \"resources\": {\n",
    "            \"num_machines\": 1,\n",
    "            \"num_mpiprocs_per_machine\": 1,\n",
    "        }\n",
    "    }\n",
    ")\n",
    "options_defect_q0=Dict(\n",
    "    dict={\n",
    "        \"max_wallclock_seconds\": 360,\n",
    "        #'withmpi': True,\n",
    "        #'account': \"tcphy113c\",\n",
    "        #'queue_name': \"DevQ\",\n",
    "        \"resources\": {\n",
    "            \"num_machines\": 1,\n",
    "            \"num_mpiprocs_per_machine\": 1,\n",
    "        }\n",
    "    }\n",
    ")\n",
    "options_defect_q=Dict(\n",
    "    dict={\n",
    "        \"max_wallclock_seconds\": 360,\n",
    "        #'withmpi': True,\n",
    "        #'account': \"tcphy113c\",\n",
    "        #'queue_name': \"DevQ\",\n",
    "        \"resources\": {\n",
    "            \"num_machines\": 1,\n",
    "            \"num_mpiprocs_per_machine\": 1,\n",
    "        }\n",
    "    }\n",
    ")\n",
    "\n"
   ]
  },
  {
   "cell_type": "code",
   "execution_count": 9,
   "metadata": {
    "collapsed": true
   },
   "outputs": [],
   "source": [
    "basis_dict_host =Dict(dict= {\n",
    "'pao-basistype':'split',\n",
    "'pao-splitnorm': 0.150,\n",
    "'pao-energyshift': '0.020 Ry',\n",
    "'%block pao-basis-sizes':\n",
    "\"\"\"\n",
    "GhostH DZP\n",
    "H    DZP\n",
    "%endblock pao-basis-sizes\"\"\",\n",
    "})\n",
    "basis_dict_defect_q0 = Dict(dict= {\n",
    "'pao-basistype':'split',\n",
    "'pao-splitnorm': 0.150,\n",
    "'pao-energyshift': '0.020 Ry',\n",
    "'%block pao-basis-sizes':\n",
    "\"\"\"\n",
    "GhostH DZP\n",
    "H    DZP\n",
    "%endblock pao-basis-sizes\"\"\",\n",
    "})\n",
    "basis_dict_defect_q =Dict(dict= {\n",
    "'pao-basistype':'split',\n",
    "'pao-splitnorm': 0.150,\n",
    "'pao-energyshift': '0.020 Ry',\n",
    "'%block pao-basis-sizes':\n",
    "\"\"\"\n",
    "GhostH DZP\n",
    "H    DZP\n",
    "%endblock pao-basis-sizes\"\"\",\n",
    "})"
   ]
  },
  {
   "cell_type": "code",
   "execution_count": 10,
   "metadata": {},
   "outputs": [
    {
     "data": {
      "text/plain": [
       "{'mesh-cutoff': '250 Ry',\n",
       " 'dm-tolerance': '0.0001',\n",
       " 'MD-TypeOfRun': 'LUA',\n",
       " 'LUA-script': 'neb.lua',\n",
       " 'DM-NumberPulay ': '3',\n",
       " 'DM-History-Depth': '0',\n",
       " 'SCF-Mixer-weight': '0.02',\n",
       " 'SCF-Mix': 'density',\n",
       " 'SCF-Mixer-kick': '35',\n",
       " 'MD-VariableCell': 'F',\n",
       " 'MD-MaxCGDispl': '0.3 Bohr',\n",
       " 'MD-MaxForceTol': ' 0.04000 eV/Ang',\n",
       " 'NetCharge': '0'}"
      ]
     },
     "execution_count": 10,
     "metadata": {},
     "output_type": "execute_result"
    }
   ],
   "source": [
    "parameters_defect_q0.get_dict()"
   ]
  },
  {
   "cell_type": "code",
   "execution_count": 11,
   "metadata": {
    "collapsed": true
   },
   "outputs": [],
   "source": [
    "kpoints_host = orm.KpointsData()\n",
    "kpoints_host.set_kpoints_mesh([1,1,1]) # Definately not converged, but we want the example to run quickly\n",
    "kpoints_defect_q0 = orm.KpointsData()\n",
    "kpoints_defect_q0.set_kpoints_mesh([1,1,1]) # Definately not converged, but we want the example to run quickly\n",
    "kpoints_defect_q = orm.KpointsData()\n",
    "kpoints_defect_q.set_kpoints_mesh([1,1,1]) # Definately not converged, but we want the example to run quickly"
   ]
  },
  {
   "cell_type": "code",
   "execution_count": 12,
   "metadata": {},
   "outputs": [
    {
     "data": {
      "text/plain": [
       "{'GhostH': <PsfData: uuid: ff59cc29-55e8-45a0-a284-f5c3c945765f (pk: 521)>,\n",
       " 'H': <PsfData: uuid: ff59cc29-55e8-45a0-a284-f5c3c945765f (pk: 521)>,\n",
       " 'O': <PsfData: uuid: 4e885319-c33a-42fb-ae15-6f923cb84c5a (pk: 3)>}"
      ]
     },
     "execution_count": 12,
     "metadata": {},
     "output_type": "execute_result"
    }
   ],
   "source": [
    "import os\n",
    "from aiida_siesta.data.psf import PsfData\n",
    "pseudo_file_to_species_map = [ (\"H.psf\", ['GhostH','H']),(\"O.psf\", ['O'])]\n",
    "pseudos_dict = {}\n",
    "for fname, kinds, in pseudo_file_to_species_map:\n",
    "      absname = os.path.realpath(os.path.join(\"./pseudos\",fname))\n",
    "      pseudo, created = PsfData.get_or_create(absname, use_first=True)\n",
    "      for j in kinds:\n",
    "              pseudos_dict[j]=pseudo\n",
    "pseudos_dict"
   ]
  },
  {
   "cell_type": "code",
   "execution_count": 13,
   "metadata": {
    "collapsed": true
   },
   "outputs": [],
   "source": [
    "inputs = {\n",
    "    # Structures\n",
    "    'host_structure': pure,\n",
    "    'defect_structure': defect,\n",
    "    # Defect information \n",
    "    'defect_charge' : orm.Float(-2.),  \n",
    "    'defect_site' : orm.List(list=[-0.757 , 2.914 , 0.000]),    # Position of the defect in crystal coordinates\n",
    "    'fermi_level' : orm.Float(0.0),               # Position of the Fermi level, with respect to the valence band maximum      \n",
    "    'chemical_potential' : orm.Float(250.709), # eV, the chemical potentical of a C atom\n",
    "    'gaussian_sigma':orm.Float(0.5),\n",
    "    'correction_scheme' : orm.Str('gaussian'),\n",
    "    \"epsilon\":orm.Float(1.0),\n",
    "    # Computational (chosen code is QE)\n",
    "    'siesta' : { 'dft': {'supercell_host':{'code': code, 'kpoints': kpoints_host, 'parameters' : parameters_host,\n",
    "                                           'options':options_host,\"basis\": basis_dict_host},\n",
    "                         'supercell_defect_q0':{'code': code, 'kpoints': kpoints_defect_q,'parameters' : parameters_defect_q0,\n",
    "                                                'options':options_defect_q0,\"basis\": basis_dict_defect_q0},\n",
    "                         'supercell_defect_q':{'code': code, 'kpoints': kpoints_defect_q,'parameters' : parameters_defect_q,\n",
    "                                               'options':options_defect_q,\"basis\": basis_dict_defect_q}\n",
    "}}}"
   ]
  },
  {
   "cell_type": "code",
   "execution_count": 14,
   "metadata": {},
   "outputs": [
    {
     "data": {
      "text/plain": [
       "{'host_structure': <StructureData: uuid: fe2606c5-ce84-475f-b343-15e522208b31 (unstored)>,\n",
       " 'defect_structure': <StructureData: uuid: 99741ecb-568d-4c99-8122-1a77ec33433d (unstored)>,\n",
       " 'defect_charge': <Float: uuid: ddce1536-743f-4027-a679-74a3928d2a27 (unstored) value: -2.0>,\n",
       " 'defect_site': <List: uuid: 9ca35130-6de1-433a-bd71-b330c2280b58 (unstored) value: [-0.757, 2.914, 0.0]>,\n",
       " 'fermi_level': <Float: uuid: a983d23c-4c57-470a-b560-784c0eb340ab (unstored) value: 0.0>,\n",
       " 'chemical_potential': <Float: uuid: 754cffe8-5254-4f75-8eff-71e942c1db3b (unstored) value: 250.709>,\n",
       " 'gaussian_sigma': <Float: uuid: 935501cb-47ad-4f72-911c-a276cc75a4ae (unstored) value: 0.5>,\n",
       " 'correction_scheme': <Str: uuid: 70de51b4-eea1-41bb-8861-ed42f36e137a (unstored) value: gaussian>,\n",
       " 'epsilon': <Float: uuid: 8303531a-9743-4b17-a671-2ddeb27a598b (unstored) value: 1.0>,\n",
       " 'siesta': {'dft': {'supercell_host': {'code': <Code: Remote code 'siesta-psml-lua' on N552VW, pk: 403, uuid: 872001d8-73fb-4b50-be30-4b947bd271b1>,\n",
       "    'kpoints': <KpointsData: uuid: 3b848a94-4ea6-4bc4-b471-b0bcf52cc225 (unstored)>,\n",
       "    'parameters': <Dict: uuid: 8482a9c7-63c6-4ede-8bcd-a78dee6a61e1 (unstored)>,\n",
       "    'options': <Dict: uuid: 7771380d-32ba-440d-9536-8b41846c38c9 (unstored)>,\n",
       "    'basis': <Dict: uuid: 2dfb49ad-2904-4c4b-937e-c93a1d875802 (unstored)>},\n",
       "   'supercell_defect_q0': {'code': <Code: Remote code 'siesta-psml-lua' on N552VW, pk: 403, uuid: 872001d8-73fb-4b50-be30-4b947bd271b1>,\n",
       "    'kpoints': <KpointsData: uuid: 4ce2ae34-2b22-4032-b35d-3721e5019a79 (unstored)>,\n",
       "    'parameters': <Dict: uuid: 994ee2ed-f365-4651-88ca-271c4bfee3a5 (unstored)>,\n",
       "    'options': <Dict: uuid: b87508af-bda5-4716-8db8-36d10b2464c8 (unstored)>,\n",
       "    'basis': <Dict: uuid: b0459a1d-cdb4-4fde-a242-c7932ad82988 (unstored)>},\n",
       "   'supercell_defect_q': {'code': <Code: Remote code 'siesta-psml-lua' on N552VW, pk: 403, uuid: 872001d8-73fb-4b50-be30-4b947bd271b1>,\n",
       "    'kpoints': <KpointsData: uuid: 4ce2ae34-2b22-4032-b35d-3721e5019a79 (unstored)>,\n",
       "    'parameters': <Dict: uuid: 59662050-5094-489f-be95-13ee3079b01c (unstored)>,\n",
       "    'options': <Dict: uuid: c2f1da38-fd3b-454a-9ba6-00d00d4710ba (unstored)>,\n",
       "    'basis': <Dict: uuid: 28874fb2-c25c-43b8-aa54-b80f6f3a3d07 (unstored)>}}}}"
      ]
     },
     "execution_count": 14,
     "metadata": {},
     "output_type": "execute_result"
    }
   ],
   "source": [
    "inputs"
   ]
  },
  {
   "cell_type": "code",
   "execution_count": 15,
   "metadata": {
    "scrolled": false
   },
   "outputs": [
    {
     "name": "stderr",
     "output_type": "stream",
     "text": [
      "/home/aakhtar/venv/aiida/lib/python3.6/site-packages/aiida/engine/processes/ports.py:111: UserWarning: default of input port `fermi_level` is a `Node` instance, which can lead to unexpected side effects. It is advised to use a lambda instead, e.g.: `default=lambda: orm.Int(5)`.\n",
      "  warnings.warn(UserWarning(message))  # pylint: disable=no-member\n"
     ]
    }
   ],
   "source": [
    "workchain_future = engine.submit(FormationEnergyWorkchainSIESTA, **inputs)"
   ]
  },
  {
   "cell_type": "code",
   "execution_count": 16,
   "metadata": {},
   "outputs": [
    {
     "data": {
      "text/plain": [
       "<WorkChainNode: uuid: c3ff0586-7430-4aa3-b610-c65ea5d2d44c (pk: 799) (formation_energy_siesta.FormationEnergyWorkchainSIESTA)>"
      ]
     },
     "execution_count": 16,
     "metadata": {},
     "output_type": "execute_result"
    }
   ],
   "source": [
    "workchain_future"
   ]
  },
  {
   "cell_type": "code",
   "execution_count": 17,
   "metadata": {
    "scrolled": true
   },
   "outputs": [
    {
     "name": "stdout",
     "output_type": "stream",
     "text": [
      "\u001b[22m  PK  Created    Process label                   Process State     Process status\n",
      "----  ---------  ------------------------------  ----------------  -----------------------------------\n",
      "   8  82D ago    SiestaCalculation               ⏹ Finished [0]\n",
      "  14  82D ago    SiestaCalculation               ⏹ Finished [0]\n",
      "  15  82D ago    SiestaCalculation               ⏹ Finished [0]\n",
      "  25  82D ago    SiestaCalculation               ⏹ Finished [0]\n",
      "  35  82D ago    SiestaCalculation               ⏹ Finished [0]\n",
      "  45  82D ago    SiestaCalculation               ⏹ Finished [0]\n",
      "  55  82D ago    SiestaCalculation               ⏹ Finished [0]\n",
      "  65  82D ago    SiestaCalculation               ⏹ Finished [0]\n",
      "  75  82D ago    SiestaCalculation               ⏹ Finished [0]\n",
      "  85  82D ago    SiestaCalculation               ⨯ Excepted        Waiting for transport task: upload\n",
      "  86  82D ago    SiestaCalculation               ⨯ Excepted        Waiting for transport task: upload\n",
      "  87  82D ago    SiestaCalculation               ⨯ Excepted        Waiting for transport task: upload\n",
      "  90  82D ago    SiestaCalculation               ⨯ Excepted        Waiting for transport task: upload\n",
      "  95  82D ago    SiestaCalculation               ⨯ Excepted        Waiting for transport task: upload\n",
      " 100  82D ago    SiestaCalculation               ⨯ Excepted        Waiting for transport task: upload\n",
      " 105  82D ago    SiestaCalculation               ⨯ Excepted        Waiting for transport task: upload\n",
      " 110  82D ago    SiestaCalculation               ⨯ Excepted        Waiting for transport task: upload\n",
      " 115  82D ago    SiestaCalculation               ⨯ Excepted        Waiting for transport task: upload\n",
      " 120  82D ago    SiestaCalculation               ⏹ Finished [0]\n",
      " 130  82D ago    SiestaCalculation               ⏹ Finished [0]\n",
      " 140  82D ago    SiestaCalculation               ⏹ Finished [0]\n",
      " 150  82D ago    SiestaCalculation               ⏹ Finished [0]\n",
      " 160  82D ago    SiestaCalculation               ⨯ Excepted        Waiting for transport task: upload\n",
      " 170  82D ago    SiestaCalculation               ⏹ Finished [0]\n",
      " 180  82D ago    SiestaCalculation               ⏹ Finished [0]\n",
      " 190  82D ago    SiestaCalculation               ⨯ Excepted        Waiting for transport task: upload\n",
      " 195  82D ago    SiestaCalculation               ⏹ Finished [0]\n",
      " 205  82D ago    SiestaCalculation               ⏹ Finished [0]\n",
      " 216  81D ago    SiestaCalculation               ⏹ Finished [0]\n",
      " 226  81D ago    SiestaCalculation               ⨯ Excepted        Waiting for transport task: upload\n",
      " 227  81D ago    SiestaCalculation               ⨯ Excepted        Waiting for transport task: upload\n",
      " 232  81D ago    SiestaCalculation               ⨯ Excepted        Waiting for transport task: upload\n",
      " 233  81D ago    SiestaCalculation               ⨯ Excepted        Waiting for transport task: upload\n",
      " 234  81D ago    SiestaCalculation               ⨯ Excepted        Waiting for transport task: upload\n",
      " 235  81D ago    SiestaCalculation               ⨯ Excepted        Waiting for transport task: upload\n",
      " 236  81D ago    SiestaCalculation               ⨯ Excepted        Waiting for transport task: upload\n",
      " 237  81D ago    SiestaCalculation               ⨯ Excepted        Waiting for transport task: upload\n",
      " 238  81D ago    SiestaCalculation               ⨯ Excepted        Waiting for transport task: upload\n",
      " 239  81D ago    SiestaCalculation               ⨯ Excepted        Waiting for transport task: upload\n",
      " 240  81D ago    SiestaCalculation               ⨯ Excepted        Waiting for transport task: upload\n",
      " 241  81D ago    SiestaCalculation               ⨯ Excepted        Waiting for transport task: upload\n",
      " 242  81D ago    SiestaCalculation               ⨯ Excepted        Waiting for transport task: upload\n",
      " 247  81D ago    SiestaCalculation               ⨯ Excepted        Waiting for transport task: upload\n",
      " 252  81D ago    SiestaCalculation               ⏹ Finished [0]\n",
      " 262  81D ago    SiestaCalculation               ⏹ Finished [0]\n",
      " 272  81D ago    SiestaCalculation               ⏹ Finished [0]\n",
      " 282  81D ago    SiestaCalculation               ⨯ Excepted        Waiting for transport task: upload\n",
      " 287  81D ago    SiestaCalculation               ⨯ Excepted        Waiting for transport task: upload\n",
      " 292  81D ago    SiestaCalculation               ⨯ Excepted        Waiting for transport task: upload\n",
      " 297  81D ago    SiestaCalculation               ⨯ Excepted        Waiting for transport task: upload\n",
      " 302  81D ago    SiestaCalculation               ⏵ Waiting         Waiting for transport task: upload\n",
      " 307  81D ago    SiestaCalculation               ⨯ Excepted        Waiting for transport task: upload\n",
      " 312  81D ago    SiestaCalculation               ⨯ Excepted        Waiting for transport task: upload\n",
      " 317  81D ago    SiestaCalculation               ⨯ Excepted        Waiting for transport task: upload\n",
      " 322  81D ago    SiestaCalculation               ⨯ Excepted        Waiting for transport task: upload\n",
      " 327  81D ago    SiestaCalculation               ⨯ Excepted        Waiting for transport task: upload\n",
      " 332  81D ago    SiestaCalculation               ⨯ Excepted        Waiting for transport task: upload\n",
      " 337  81D ago    SiestaCalculation               ⏵ Waiting         Waiting for transport task: upload\n",
      " 342  81D ago    SiestaCalculation               ⨯ Excepted        Waiting for transport task: upload\n",
      " 348  81D ago    SiestaCalculation               ⏹ Finished [0]\n",
      " 359  81D ago    SiestaCalculation               ⏹ Finished [0]\n",
      " 370  81D ago    SiestaCalculation               ⏹ Finished [0]\n",
      " 376  81D ago    SiestaCalculation               ⨯ Excepted        Waiting for transport task: upload\n",
      " 382  81D ago    SiestaCalculation               ⨯ Excepted        Waiting for transport task: upload\n",
      " 388  81D ago    SiestaCalculation               ⏹ Finished [0]\n",
      " 399  81D ago    SiestaCalculation               ⏹ Finished [0]\n",
      " 409  81D ago    SiestaCalculation               ⏹ Finished [0]\n",
      " 420  77D ago    SiestaCalculation               ⏹ Finished [0]\n",
      " 425  77D ago    SiestaCalculation               ⏹ Finished [0]\n",
      " 435  76D ago    SiestaCalculation               ⨯ Excepted        Waiting for transport task: upload\n",
      " 440  76D ago    SiestaCalculation               ⏹ Finished [0]\n",
      " 448  76D ago    SiestaCalculation               ⏹ Finished [0]\n",
      " 468  48D ago    SiestaCalculation               ⨯ Excepted        Waiting for transport task: upload\n",
      " 469  48D ago    SiestaCalculation               ⨯ Excepted        Waiting for transport task: upload\n",
      " 474  48D ago    SiestaCalculation               ⨯ Excepted        Waiting for transport task: upload\n",
      " 479  48D ago    SiestaCalculation               ⏹ Finished [0]\n",
      " 487  47D ago    SiestaCalculation               ☠ Killed          Killed through `verdi process kill`\n",
      " 493  47D ago    SiestaCalculation               ☠ Killed          Killed through `verdi process kill`\n",
      " 500  47D ago    SiestaCalculation               ☠ Killed          Killed through `verdi process kill`\n",
      " 506  47D ago    SiestaCalculation               ☠ Killed          Killed through `verdi process kill`\n",
      " 513  47D ago    SiestaCalculation               ⏹ Finished [120]\n",
      " 519  47D ago    SiestaCalculation               ☠ Killed          Killed through `verdi process kill`\n",
      " 534  46D ago    SiestaCalculation               ☠ Killed          Killed through `verdi process kill`\n",
      " 541  46D ago    SiestaCalculation               ⏹ Finished [0]\n",
      " 552  45D ago    SiestaCalculation               ⏹ Finished [0]\n",
      " 562  40D ago    SiestaCalculation               ⏹ Finished [0]\n",
      " 573  38D ago    SiestaCalculation               ⏹ Finished [0]\n",
      " 584  38D ago    SiestaCalculation               ⏹ Finished [0]\n",
      " 598  38D ago    SiestaCalculation               ⏹ Finished [0]\n",
      " 608  38D ago    SiestaCalculation               ☠ Killed          Killed through `verdi process kill`\n",
      " 616  38D ago    SiestaCalculation               ☠ Killed          Killed through `verdi process kill`\n",
      " 624  38D ago    SiestaCalculation               ☠ Killed          Killed through `verdi process kill`\n",
      " 632  37D ago    SiestaCalculation               ☠ Killed          Killed through `verdi process kill`\n",
      " 640  37D ago    SiestaCalculation               ☠ Killed          Killed through `verdi process kill`\n",
      " 648  27D ago    SiestaCalculation               ☠ Killed          Killed through `verdi process kill`\n",
      " 672  44m ago    FormationEnergyWorkchainSIESTA  ⨯ Excepted\n",
      " 673  38m ago    FormationEnergyWorkchainSIESTA  ⨯ Excepted\n",
      " 694  35m ago    FormationEnergyWorkchainSIESTA  ⨯ Excepted\n",
      " 715  29m ago    FormationEnergyWorkchainSIESTA  ⨯ Excepted\n",
      " 736  25m ago    FormationEnergyWorkchainSIESTA  ⨯ Excepted\n",
      " 757  14m ago    FormationEnergyWorkchainSIESTA  ⨯ Excepted\n",
      " 778  3m ago     FormationEnergyWorkchainSIESTA  ⨯ Excepted\n",
      " 799  4s ago     FormationEnergyWorkchainSIESTA  ⨯ Excepted\u001b[0m\n",
      "\u001b[22m\n",
      "Total results: 103\n",
      "\u001b[0m\n",
      "\u001b[34m\u001b[1mInfo: \u001b[0m\u001b[22mlast time an entry changed state: 3s ago (at 14:26:55 on 2020-07-13)\u001b[0m\n"
     ]
    }
   ],
   "source": [
    "!verdi process list -a"
   ]
  },
  {
   "cell_type": "code",
   "execution_count": 18,
   "metadata": {},
   "outputs": [
    {
     "name": "stdout",
     "output_type": "stream",
     "text": [
      "\u001b[22mProperty     Value\n",
      "-----------  ----------------------------------------------------------------------------------------------------------------------------------------\n",
      "type         FormationEnergyWorkchainSIESTA\n",
      "state        Excepted <module 'formation_energy_siesta' from identifier 'formation_energy_siesta:FormationEnergyWorkchainSIESTA' could not be loaded>\n",
      "pk           799\n",
      "uuid         c3ff0586-7430-4aa3-b610-c65ea5d2d44c\n",
      "label\n",
      "description\n",
      "ctime        2020-07-13 14:26:54.754684+00:00\n",
      "mtime        2020-07-13 14:26:55.723314+00:00\n",
      "computer     [1] N552VW\n",
      "\n",
      "Inputs                       PK    Type\n",
      "---------------------------  ----  -------------\n",
      "siesta\n",
      "    dft\n",
      "        supercell_defect_q\n",
      "            basis            798   Dict\n",
      "            options          797   Dict\n",
      "            parameters       796   Dict\n",
      "            kpoints          792   KpointsData\n",
      "            code             403   Code\n",
      "        supercell_defect_q0\n",
      "            basis            795   Dict\n",
      "            options          794   Dict\n",
      "            parameters       793   Dict\n",
      "            kpoints          792   KpointsData\n",
      "            code             403   Code\n",
      "        supercell_host\n",
      "            basis            791   Dict\n",
      "            options          790   Dict\n",
      "            parameters       789   Dict\n",
      "            kpoints          788   KpointsData\n",
      "            code             403   Code\n",
      "chemical_potential           784   Float\n",
      "correction_scheme            786   Str\n",
      "defect_charge                781   Float\n",
      "defect_site                  782   List\n",
      "defect_structure             780   StructureData\n",
      "epsilon                      787   Float\n",
      "fermi_level                  783   Float\n",
      "gaussian_sigma               785   Float\n",
      "host_structure               779   StructureData\n",
      "\n",
      "Log messages\n",
      "---------------------------------------------\n",
      "There are 1 log messages for this calculation\n",
      "Run 'verdi process report 799' to see them\u001b[0m\n"
     ]
    }
   ],
   "source": [
    "!verdi process show 799"
   ]
  },
  {
   "cell_type": "code",
   "execution_count": null,
   "metadata": {
    "collapsed": true
   },
   "outputs": [],
   "source": [
    "!verdi process report 584"
   ]
  },
  {
   "cell_type": "code",
   "execution_count": null,
   "metadata": {
    "collapsed": true
   },
   "outputs": [],
   "source": [
    "from aiida.orm import load_node\n",
    "results=load_node('584')"
   ]
  },
  {
   "cell_type": "code",
   "execution_count": null,
   "metadata": {
    "collapsed": true
   },
   "outputs": [],
   "source": [
    "results.outputs['output_parameters'.get_dict()]"
   ]
  },
  {
   "cell_type": "code",
   "execution_count": null,
   "metadata": {
    "collapsed": true
   },
   "outputs": [],
   "source": [
    "results.outputs.output_parameters.get_dict()"
   ]
  },
  {
   "cell_type": "code",
   "execution_count": null,
   "metadata": {
    "collapsed": true
   },
   "outputs": [],
   "source": [
    "code"
   ]
  },
  {
   "cell_type": "code",
   "execution_count": null,
   "metadata": {
    "collapsed": true
   },
   "outputs": [],
   "source": []
  }
 ],
 "metadata": {
  "kernelspec": {
   "display_name": "Python 3",
   "language": "python",
   "name": "python3"
  },
  "language_info": {
   "codemirror_mode": {
    "name": "ipython",
    "version": 3
   },
   "file_extension": ".py",
   "mimetype": "text/x-python",
   "name": "python",
   "nbconvert_exporter": "python",
   "pygments_lexer": "ipython3",
   "version": "3.6.9"
  }
 },
 "nbformat": 4,
 "nbformat_minor": 4
}
