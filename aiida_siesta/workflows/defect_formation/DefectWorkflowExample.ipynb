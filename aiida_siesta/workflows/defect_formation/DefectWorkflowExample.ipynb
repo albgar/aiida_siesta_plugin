{
 "cells": [
  {
   "cell_type": "code",
   "execution_count": 12,
   "metadata": {
    "collapsed": true
   },
   "outputs": [],
   "source": [
    "from __future__ import absolute_import\n",
    "import aiida"
   ]
  },
  {
   "cell_type": "code",
   "execution_count": 13,
   "metadata": {
    "collapsed": true
   },
   "outputs": [],
   "source": [
    "from aiida import load_profile\n",
    "load_profile()\n",
    "\n",
    "# Import commonly used functionality\n",
    "import numpy as np\n",
    "from aiida import orm, engine, common\n",
    "from aiida.plugins import WorkflowFactory\n",
    "from aiida.orm import Code\n",
    "\n"
   ]
  },
  {
   "cell_type": "code",
   "execution_count": 14,
   "metadata": {},
   "outputs": [],
   "source": [
    "!reentry scan"
   ]
  },
  {
   "cell_type": "code",
   "execution_count": 15,
   "metadata": {},
   "outputs": [
    {
     "name": "stdout",
     "output_type": "stream",
     "text": [
      "\u001b[22mRestarting the daemon... \u001b[0m\u001b[32m\u001b[1mOK\u001b[0m\n"
     ]
    }
   ],
   "source": [
    "!verdi daemon restart\n",
    "#!$JUPYTER_PATH\n",
    "#!export JUPYTER_PATH=\"/home/aakhtar/Projects/aiida-defects-siesta/siesta-defect-formation/aiida-workflow/formation_energy/;$JUPYTER_PATH\""
   ]
  },
  {
   "cell_type": "code",
   "execution_count": 17,
   "metadata": {},
   "outputs": [],
   "source": [
    "from aiida_siesta.workflows.defect_formation.formation_energy_siesta import FormationEnergyWorkchainSIESTA\n",
    "#import .formation_energy_siesta\n",
    "#!pwd"
   ]
  },
  {
   "cell_type": "code",
   "execution_count": 18,
   "metadata": {
    "collapsed": true
   },
   "outputs": [],
   "source": [
    "from aiida.orm import StructureData\n",
    "#Structure Pure\n",
    "cell = [[15.0, 0.0, 0.0,],\n",
    "        [ 0.0,15.0, 0.0,],\n",
    "        [ 0.0, 0.0,15.0,],\n",
    "        ]\n",
    "pure = StructureData(cell=cell)\n",
    "pure.append_atom(position=( 0.000 , 0.000 , 0.000 ),symbols=['O']) #1\n",
    "pure.append_atom(position=( 0.757 , 0.586 , 0.000 ),symbols=['H']) #2\n",
    "pure.append_atom(position=(-0.757 , 0.586 , 0.000),symbols=['H']) #3 \n",
    "pure.append_atom(position=( 0.000 , 3.500 , 0.000),symbols=['O']) #4\n",
    "pure.append_atom(position=( 0.757 , 2.914 , 0.000 ),symbols=['H']) #5\n",
    "pure.append_atom(position=(-0.757 , 2.914 , 0.000),symbols=['H']) #6\n",
    "\n",
    "\n",
    "defect=StructureData(cell=cell)\n",
    "defect.append_atom(position=( 0.000 , 0.000 , 0.000 ),symbols=['O']) #1\n",
    "defect.append_atom(position=( 0.757 , 0.586 , 0.000 ),symbols=['H']) #2\n",
    "defect.append_atom(position=(-0.757 , 0.586 , 0.000),symbols=['H']) #3 \n",
    "defect.append_atom(position=( 0.000 , 3.500 , 0.000),symbols=['O']) #4\n",
    "defect.append_atom(position=( 0.757 , 2.914 , 0.000 ),symbols=['H']) #5\n",
    "defect.append_atom(position=(-0.757 , 2.914 , 0.000),symbols=['H'],name=\"GhostH\") #6"
   ]
  },
  {
   "cell_type": "code",
   "execution_count": 19,
   "metadata": {
    "collapsed": true
   },
   "outputs": [],
   "source": [
    "code = Code.get_from_string('siesta-psml-lua@N552VW')\n",
    "charge=-2"
   ]
  },
  {
   "cell_type": "code",
   "execution_count": 20,
   "metadata": {
    "collapsed": true
   },
   "outputs": [],
   "source": [
    "from aiida.orm import Dict\n",
    "parameters_host = Dict(dict={\n",
    "   \"mesh-cutoff\": \"250 Ry\",\n",
    "   \"dm-tolerance\": \"0.0001\",\n",
    "   \"MD-TypeOfRun\":   \"LUA\",\n",
    "   \"LUA-script\":   \"neb.lua\",\n",
    "   \"DM-NumberPulay \":  \"3\",\n",
    "   \"DM-History-Depth\":  \"0\",\n",
    "   \"SCF-Mixer-weight\":  \"0.02\",\n",
    "   \"SCF-Mix\":   \"density\",\n",
    "   \"SCF-Mixer-kick\":  \"35\",\n",
    "   \"MD-VariableCell\":  \"F\",\n",
    "   \"MD-MaxCGDispl\":  \"0.3 Bohr\",\n",
    "   \"MD-MaxForceTol\":  \" 0.04000 eV/Ang\", \n",
    "    })\n",
    "parameters_defect_q0 = Dict(dict={\n",
    "   \"mesh-cutoff\": \"250 Ry\",\n",
    "   \"dm-tolerance\": \"0.0001\",\n",
    "   \"MD-TypeOfRun\":   \"LUA\",\n",
    "   \"LUA-script\":   \"neb.lua\",\n",
    "   \"DM-NumberPulay \":  \"3\",\n",
    "   \"DM-History-Depth\":  \"0\",\n",
    "   \"SCF-Mixer-weight\":  \"0.02\",\n",
    "   \"SCF-Mix\":   \"density\",\n",
    "   \"SCF-Mixer-kick\":  \"35\",\n",
    "   \"MD-VariableCell\":  \"F\",\n",
    "   \"MD-MaxCGDispl\":  \"0.3 Bohr\",\n",
    "   \"MD-MaxForceTol\":  \" 0.04000 eV/Ang\", \n",
    "   \"NetCharge\": \"0\",\n",
    "    })\n",
    "parameters_defect_q = Dict(dict={\n",
    "   \"mesh-cutoff\": \"250 Ry\",\n",
    "   \"dm-tolerance\": \"0.0001\",\n",
    "   \"MD-TypeOfRun\":   \"LUA\",\n",
    "   \"LUA-script\":   \"neb.lua\",\n",
    "   \"DM-NumberPulay \":  \"3\",\n",
    "   \"DM-History-Depth\":  \"0\",\n",
    "   \"SCF-Mixer-weight\":  \"0.02\",\n",
    "   \"SCF-Mix\":   \"density\",\n",
    "   \"SCF-Mixer-kick\":  \"35\",\n",
    "   \"MD-VariableCell\":  \"F\",\n",
    "   \"MD-MaxCGDispl\":  \"0.3 Bohr\",\n",
    "   \"MD-MaxForceTol\":  \" 0.04000 eV/Ang\",\n",
    "   \"NetCharge\": str(charge),\n",
    "    })\n",
    "options_host=Dict(\n",
    "    dict={\n",
    "        \"max_wallclock_seconds\": 360,\n",
    "        #'withmpi': True,\n",
    "        #'account': \"tcphy113c\",\n",
    "        #'queue_name': \"DevQ\",\n",
    "        \"resources\": {\n",
    "            \"num_machines\": 1,\n",
    "            \"num_mpiprocs_per_machine\": 1,\n",
    "        }\n",
    "    }\n",
    ")\n",
    "options_defect_q0=Dict(\n",
    "    dict={\n",
    "        \"max_wallclock_seconds\": 360,\n",
    "        #'withmpi': True,\n",
    "        #'account': \"tcphy113c\",\n",
    "        #'queue_name': \"DevQ\",\n",
    "        \"resources\": {\n",
    "            \"num_machines\": 1,\n",
    "            \"num_mpiprocs_per_machine\": 1,\n",
    "        }\n",
    "    }\n",
    ")\n",
    "options_defect_q=Dict(\n",
    "    dict={\n",
    "        \"max_wallclock_seconds\": 360,\n",
    "        #'withmpi': True,\n",
    "        #'account': \"tcphy113c\",\n",
    "        #'queue_name': \"DevQ\",\n",
    "        \"resources\": {\n",
    "            \"num_machines\": 1,\n",
    "            \"num_mpiprocs_per_machine\": 1,\n",
    "        }\n",
    "    }\n",
    ")\n",
    "\n"
   ]
  },
  {
   "cell_type": "code",
   "execution_count": 21,
   "metadata": {
    "collapsed": true
   },
   "outputs": [],
   "source": [
    "basis_dict_host =Dict(dict= {\n",
    "'pao-basistype':'split',\n",
    "'pao-splitnorm': 0.150,\n",
    "'pao-energyshift': '0.020 Ry',\n",
    "'%block pao-basis-sizes':\n",
    "\"\"\"\n",
    "GhostH DZP\n",
    "H    DZP\n",
    "%endblock pao-basis-sizes\"\"\",\n",
    "})\n",
    "basis_dict_defect_q0 = Dict(dict= {\n",
    "'pao-basistype':'split',\n",
    "'pao-splitnorm': 0.150,\n",
    "'pao-energyshift': '0.020 Ry',\n",
    "'%block pao-basis-sizes':\n",
    "\"\"\"\n",
    "GhostH DZP\n",
    "H    DZP\n",
    "%endblock pao-basis-sizes\"\"\",\n",
    "})\n",
    "basis_dict_defect_q =Dict(dict= {\n",
    "'pao-basistype':'split',\n",
    "'pao-splitnorm': 0.150,\n",
    "'pao-energyshift': '0.020 Ry',\n",
    "'%block pao-basis-sizes':\n",
    "\"\"\"\n",
    "GhostH DZP\n",
    "H    DZP\n",
    "%endblock pao-basis-sizes\"\"\",\n",
    "})"
   ]
  },
  {
   "cell_type": "code",
   "execution_count": 22,
   "metadata": {},
   "outputs": [
    {
     "data": {
      "text/plain": [
       "{'mesh-cutoff': '250 Ry',\n",
       " 'dm-tolerance': '0.0001',\n",
       " 'MD-TypeOfRun': 'LUA',\n",
       " 'LUA-script': 'neb.lua',\n",
       " 'DM-NumberPulay ': '3',\n",
       " 'DM-History-Depth': '0',\n",
       " 'SCF-Mixer-weight': '0.02',\n",
       " 'SCF-Mix': 'density',\n",
       " 'SCF-Mixer-kick': '35',\n",
       " 'MD-VariableCell': 'F',\n",
       " 'MD-MaxCGDispl': '0.3 Bohr',\n",
       " 'MD-MaxForceTol': ' 0.04000 eV/Ang',\n",
       " 'NetCharge': '0'}"
      ]
     },
     "execution_count": 22,
     "metadata": {},
     "output_type": "execute_result"
    }
   ],
   "source": [
    "parameters_defect_q0.get_dict()"
   ]
  },
  {
   "cell_type": "code",
   "execution_count": 23,
   "metadata": {
    "collapsed": true
   },
   "outputs": [],
   "source": [
    "kpoints_host = orm.KpointsData()\n",
    "kpoints_host.set_kpoints_mesh([1,1,1]) # Definately not converged, but we want the example to run quickly\n",
    "kpoints_defect_q0 = orm.KpointsData()\n",
    "kpoints_defect_q0.set_kpoints_mesh([1,1,1]) # Definately not converged, but we want the example to run quickly\n",
    "kpoints_defect_q = orm.KpointsData()\n",
    "kpoints_defect_q.set_kpoints_mesh([1,1,1]) # Definately not converged, but we want the example to run quickly"
   ]
  },
  {
   "cell_type": "code",
   "execution_count": 24,
   "metadata": {},
   "outputs": [
    {
     "data": {
      "text/plain": [
       "{'GhostH': <PsfData: uuid: ff59cc29-55e8-45a0-a284-f5c3c945765f (pk: 521)>,\n",
       " 'H': <PsfData: uuid: ff59cc29-55e8-45a0-a284-f5c3c945765f (pk: 521)>,\n",
       " 'O': <PsfData: uuid: 4e885319-c33a-42fb-ae15-6f923cb84c5a (pk: 3)>}"
      ]
     },
     "execution_count": 24,
     "metadata": {},
     "output_type": "execute_result"
    }
   ],
   "source": [
    "import os\n",
    "from aiida_siesta.data.psf import PsfData\n",
    "pseudo_file_to_species_map = [ (\"H.psf\", ['GhostH','H']),(\"O.psf\", ['O'])]\n",
    "pseudos_dict = {}\n",
    "for fname, kinds, in pseudo_file_to_species_map:\n",
    "      absname = os.path.realpath(os.path.join(\"./pseudos\",fname))\n",
    "      pseudo, created = PsfData.get_or_create(absname, use_first=True)\n",
    "      for j in kinds:\n",
    "              pseudos_dict[j]=pseudo\n",
    "pseudos_dict"
   ]
  },
  {
   "cell_type": "code",
   "execution_count": 25,
   "metadata": {
    "collapsed": true
   },
   "outputs": [],
   "source": [
    "inputs = {\n",
    "    # Structures\n",
    "    'host_structure': pure,\n",
    "    'defect_structure': defect,\n",
    "    # Defect information \n",
    "    'defect_charge' : orm.Float(-2.),  \n",
    "    'defect_site' : orm.List(list=[-0.757 , 2.914 , 0.000]),    # Position of the defect in crystal coordinates\n",
    "    'fermi_level' : orm.Float(0.0),               # Position of the Fermi level, with respect to the valence band maximum      \n",
    "    'chemical_potential' : orm.Float(250.709), # eV, the chemical potentical of a C atom\n",
    "    'gaussian_sigma':orm.Float(0.5),\n",
    "    'correction_scheme' : orm.Str('gaussian'),\n",
    "    \"epsilon\":orm.Float(1.0),\n",
    "    # Computational (chosen code is QE)\n",
    "    'siesta' : { 'dft': {'supercell_host':{'code': code, 'kpoints': kpoints_host, 'parameters' : parameters_host,\n",
    "                                           'options':options_host,\"basis\": basis_dict_host},\n",
    "                         'supercell_defect_q0':{'code': code, 'kpoints': kpoints_defect_q,'parameters' : parameters_defect_q0,\n",
    "                                                'options':options_defect_q0,\"basis\": basis_dict_defect_q0},\n",
    "                         'supercell_defect_q':{'code': code, 'kpoints': kpoints_defect_q,'parameters' : parameters_defect_q,\n",
    "                                               'options':options_defect_q,\"basis\": basis_dict_defect_q}\n",
    "}}}"
   ]
  },
  {
   "cell_type": "code",
   "execution_count": 26,
   "metadata": {},
   "outputs": [
    {
     "data": {
      "text/plain": [
       "{'host_structure': <StructureData: uuid: 55b12ea0-48ba-4da2-bd39-5cca61525d90 (unstored)>,\n",
       " 'defect_structure': <StructureData: uuid: d16feacb-8946-4829-ace0-3e12c5132bf8 (unstored)>,\n",
       " 'defect_charge': <Float: uuid: 93973bb2-ce58-46c8-9b86-446c855e1650 (unstored) value: -2.0>,\n",
       " 'defect_site': <List: uuid: bb453418-0930-407b-b6d1-e67ec9177d4f (unstored) value: [-0.757, 2.914, 0.0]>,\n",
       " 'fermi_level': <Float: uuid: 4d6c42ab-e25d-4a57-8c97-c3e2029edc84 (unstored) value: 0.0>,\n",
       " 'chemical_potential': <Float: uuid: 7f713dc2-3ba0-4e78-8c1f-d67726006cd4 (unstored) value: 250.709>,\n",
       " 'gaussian_sigma': <Float: uuid: 5ecd7e2e-9bfb-46ef-acf6-1cbc3f2f2367 (unstored) value: 0.5>,\n",
       " 'correction_scheme': <Str: uuid: c9fd1291-1d8a-4aa6-9de2-3c61bbcc6344 (unstored) value: gaussian>,\n",
       " 'epsilon': <Float: uuid: 8de173d3-06d0-48a2-a4ff-304cadc9b961 (unstored) value: 1.0>,\n",
       " 'siesta': {'dft': {'supercell_host': {'code': <Code: Remote code 'siesta-psml-lua' on N552VW, pk: 403, uuid: 872001d8-73fb-4b50-be30-4b947bd271b1>,\n",
       "    'kpoints': <KpointsData: uuid: 950999e7-ec0d-451d-a8c1-7f1305306151 (unstored)>,\n",
       "    'parameters': <Dict: uuid: 0bf3ae13-be90-4652-9290-930b4c3be420 (unstored)>,\n",
       "    'options': <Dict: uuid: 5261dd78-56d2-4833-aace-e408b6b479f8 (unstored)>,\n",
       "    'basis': <Dict: uuid: ca1e4a58-6e31-4b21-9965-6b7e524550e7 (unstored)>},\n",
       "   'supercell_defect_q0': {'code': <Code: Remote code 'siesta-psml-lua' on N552VW, pk: 403, uuid: 872001d8-73fb-4b50-be30-4b947bd271b1>,\n",
       "    'kpoints': <KpointsData: uuid: 482d34dc-44e0-4cf9-bc3f-009bd5a1eeca (unstored)>,\n",
       "    'parameters': <Dict: uuid: 43671cf2-2c5b-4b3d-ad61-4b0f471e7e53 (unstored)>,\n",
       "    'options': <Dict: uuid: 18b0eab0-c447-4b32-b48e-e02df82a9681 (unstored)>,\n",
       "    'basis': <Dict: uuid: 0c98b6c8-4f31-4303-8b47-346bbe7c2df6 (unstored)>},\n",
       "   'supercell_defect_q': {'code': <Code: Remote code 'siesta-psml-lua' on N552VW, pk: 403, uuid: 872001d8-73fb-4b50-be30-4b947bd271b1>,\n",
       "    'kpoints': <KpointsData: uuid: 482d34dc-44e0-4cf9-bc3f-009bd5a1eeca (unstored)>,\n",
       "    'parameters': <Dict: uuid: 8d166ee1-c8cd-4d95-9bdc-3cc0db1b99fc (unstored)>,\n",
       "    'options': <Dict: uuid: df349e4b-3ade-400d-9035-a3701bd634a9 (unstored)>,\n",
       "    'basis': <Dict: uuid: eb9089d6-1450-4de8-b889-f6c7e5f04b03 (unstored)>}}}}"
      ]
     },
     "execution_count": 26,
     "metadata": {},
     "output_type": "execute_result"
    }
   ],
   "source": [
    "inputs"
   ]
  },
  {
   "cell_type": "code",
   "execution_count": 27,
   "metadata": {
    "scrolled": false
   },
   "outputs": [
    {
     "name": "stderr",
     "output_type": "stream",
     "text": [
      "/home/aakhtar/venv/aiida/lib/python3.6/site-packages/aiida/engine/processes/ports.py:111: UserWarning: default of input port `fermi_level` is a `Node` instance, which can lead to unexpected side effects. It is advised to use a lambda instead, e.g.: `default=lambda: orm.Int(5)`.\n",
      "  warnings.warn(UserWarning(message))  # pylint: disable=no-member\n"
     ]
    }
   ],
   "source": [
    "workchain_future = engine.submit(FormationEnergyWorkchainSIESTA, **inputs)"
   ]
  },
  {
   "cell_type": "code",
   "execution_count": 28,
   "metadata": {},
   "outputs": [
    {
     "data": {
      "text/plain": [
       "<WorkChainNode: uuid: ea242e21-1145-46d4-a449-3b852e43661b (pk: 950) (aiida.workflows:siesta.formation_energy_siesta)>"
      ]
     },
     "execution_count": 28,
     "metadata": {},
     "output_type": "execute_result"
    }
   ],
   "source": [
    "workchain_future"
   ]
  },
  {
   "cell_type": "code",
   "execution_count": 29,
   "metadata": {
    "scrolled": true
   },
   "outputs": [
    {
     "name": "stdout",
     "output_type": "stream",
     "text": [
      "\u001b[22m  PK  Created    Process label                   Process State     Process status\n",
      "----  ---------  ------------------------------  ----------------  -----------------------------------\n",
      "   8  83D ago    SiestaCalculation               ⏹ Finished [0]\n",
      "  14  83D ago    SiestaCalculation               ⏹ Finished [0]\n",
      "  15  83D ago    SiestaCalculation               ⏹ Finished [0]\n",
      "  25  83D ago    SiestaCalculation               ⏹ Finished [0]\n",
      "  35  83D ago    SiestaCalculation               ⏹ Finished [0]\n",
      "  45  83D ago    SiestaCalculation               ⏹ Finished [0]\n",
      "  55  83D ago    SiestaCalculation               ⏹ Finished [0]\n",
      "  65  83D ago    SiestaCalculation               ⏹ Finished [0]\n",
      "  75  83D ago    SiestaCalculation               ⏹ Finished [0]\n",
      "  85  83D ago    SiestaCalculation               ⨯ Excepted        Waiting for transport task: upload\n",
      "  86  83D ago    SiestaCalculation               ⨯ Excepted        Waiting for transport task: upload\n",
      "  87  83D ago    SiestaCalculation               ⨯ Excepted        Waiting for transport task: upload\n",
      "  90  83D ago    SiestaCalculation               ⨯ Excepted        Waiting for transport task: upload\n",
      "  95  83D ago    SiestaCalculation               ⨯ Excepted        Waiting for transport task: upload\n",
      " 100  83D ago    SiestaCalculation               ⨯ Excepted        Waiting for transport task: upload\n",
      " 105  83D ago    SiestaCalculation               ⨯ Excepted        Waiting for transport task: upload\n",
      " 110  83D ago    SiestaCalculation               ⨯ Excepted        Waiting for transport task: upload\n",
      " 115  83D ago    SiestaCalculation               ⨯ Excepted        Waiting for transport task: upload\n",
      " 120  83D ago    SiestaCalculation               ⏹ Finished [0]\n",
      " 130  83D ago    SiestaCalculation               ⏹ Finished [0]\n",
      " 140  83D ago    SiestaCalculation               ⏹ Finished [0]\n",
      " 150  83D ago    SiestaCalculation               ⏹ Finished [0]\n",
      " 160  82D ago    SiestaCalculation               ⨯ Excepted        Waiting for transport task: upload\n",
      " 170  82D ago    SiestaCalculation               ⏹ Finished [0]\n",
      " 180  82D ago    SiestaCalculation               ⏹ Finished [0]\n",
      " 190  82D ago    SiestaCalculation               ⨯ Excepted        Waiting for transport task: upload\n",
      " 195  82D ago    SiestaCalculation               ⏹ Finished [0]\n",
      " 205  82D ago    SiestaCalculation               ⏹ Finished [0]\n",
      " 216  82D ago    SiestaCalculation               ⏹ Finished [0]\n",
      " 226  82D ago    SiestaCalculation               ⨯ Excepted        Waiting for transport task: upload\n",
      " 227  82D ago    SiestaCalculation               ⨯ Excepted        Waiting for transport task: upload\n",
      " 232  82D ago    SiestaCalculation               ⨯ Excepted        Waiting for transport task: upload\n",
      " 233  82D ago    SiestaCalculation               ⨯ Excepted        Waiting for transport task: upload\n",
      " 234  82D ago    SiestaCalculation               ⨯ Excepted        Waiting for transport task: upload\n",
      " 235  82D ago    SiestaCalculation               ⨯ Excepted        Waiting for transport task: upload\n",
      " 236  82D ago    SiestaCalculation               ⨯ Excepted        Waiting for transport task: upload\n",
      " 237  82D ago    SiestaCalculation               ⨯ Excepted        Waiting for transport task: upload\n",
      " 238  82D ago    SiestaCalculation               ⨯ Excepted        Waiting for transport task: upload\n",
      " 239  82D ago    SiestaCalculation               ⨯ Excepted        Waiting for transport task: upload\n",
      " 240  82D ago    SiestaCalculation               ⨯ Excepted        Waiting for transport task: upload\n",
      " 241  82D ago    SiestaCalculation               ⨯ Excepted        Waiting for transport task: upload\n",
      " 242  82D ago    SiestaCalculation               ⨯ Excepted        Waiting for transport task: upload\n",
      " 247  82D ago    SiestaCalculation               ⨯ Excepted        Waiting for transport task: upload\n",
      " 252  82D ago    SiestaCalculation               ⏹ Finished [0]\n",
      " 262  82D ago    SiestaCalculation               ⏹ Finished [0]\n",
      " 272  82D ago    SiestaCalculation               ⏹ Finished [0]\n",
      " 282  82D ago    SiestaCalculation               ⨯ Excepted        Waiting for transport task: upload\n",
      " 287  82D ago    SiestaCalculation               ⨯ Excepted        Waiting for transport task: upload\n",
      " 292  82D ago    SiestaCalculation               ⨯ Excepted        Waiting for transport task: upload\n",
      " 297  82D ago    SiestaCalculation               ⨯ Excepted        Waiting for transport task: upload\n",
      " 302  82D ago    SiestaCalculation               ⏵ Waiting         Waiting for transport task: upload\n",
      " 307  82D ago    SiestaCalculation               ⨯ Excepted        Waiting for transport task: upload\n",
      " 312  82D ago    SiestaCalculation               ⨯ Excepted        Waiting for transport task: upload\n",
      " 317  82D ago    SiestaCalculation               ⨯ Excepted        Waiting for transport task: upload\n",
      " 322  82D ago    SiestaCalculation               ⨯ Excepted        Waiting for transport task: upload\n",
      " 327  82D ago    SiestaCalculation               ⨯ Excepted        Waiting for transport task: upload\n",
      " 332  82D ago    SiestaCalculation               ⨯ Excepted        Waiting for transport task: upload\n",
      " 337  82D ago    SiestaCalculation               ⏵ Waiting         Waiting for transport task: upload\n",
      " 342  82D ago    SiestaCalculation               ⨯ Excepted        Waiting for transport task: upload\n",
      " 348  81D ago    SiestaCalculation               ⏹ Finished [0]\n",
      " 359  81D ago    SiestaCalculation               ⏹ Finished [0]\n",
      " 370  81D ago    SiestaCalculation               ⏹ Finished [0]\n",
      " 376  81D ago    SiestaCalculation               ⨯ Excepted        Waiting for transport task: upload\n",
      " 382  81D ago    SiestaCalculation               ⨯ Excepted        Waiting for transport task: upload\n",
      " 388  81D ago    SiestaCalculation               ⏹ Finished [0]\n",
      " 399  81D ago    SiestaCalculation               ⏹ Finished [0]\n",
      " 409  81D ago    SiestaCalculation               ⏹ Finished [0]\n",
      " 420  77D ago    SiestaCalculation               ⏹ Finished [0]\n",
      " 425  77D ago    SiestaCalculation               ⏹ Finished [0]\n",
      " 435  77D ago    SiestaCalculation               ⨯ Excepted        Waiting for transport task: upload\n",
      " 440  77D ago    SiestaCalculation               ⏹ Finished [0]\n",
      " 448  77D ago    SiestaCalculation               ⏹ Finished [0]\n",
      " 468  48D ago    SiestaCalculation               ⨯ Excepted        Waiting for transport task: upload\n",
      " 469  48D ago    SiestaCalculation               ⨯ Excepted        Waiting for transport task: upload\n",
      " 474  48D ago    SiestaCalculation               ⨯ Excepted        Waiting for transport task: upload\n",
      " 479  48D ago    SiestaCalculation               ⏹ Finished [0]\n",
      " 487  48D ago    SiestaCalculation               ☠ Killed          Killed through `verdi process kill`\n",
      " 493  48D ago    SiestaCalculation               ☠ Killed          Killed through `verdi process kill`\n",
      " 500  48D ago    SiestaCalculation               ☠ Killed          Killed through `verdi process kill`\n",
      " 506  48D ago    SiestaCalculation               ☠ Killed          Killed through `verdi process kill`\n",
      " 513  48D ago    SiestaCalculation               ⏹ Finished [120]\n",
      " 519  48D ago    SiestaCalculation               ☠ Killed          Killed through `verdi process kill`\n",
      " 534  47D ago    SiestaCalculation               ☠ Killed          Killed through `verdi process kill`\n",
      " 541  47D ago    SiestaCalculation               ⏹ Finished [0]\n",
      " 552  46D ago    SiestaCalculation               ⏹ Finished [0]\n",
      " 562  40D ago    SiestaCalculation               ⏹ Finished [0]\n",
      " 573  38D ago    SiestaCalculation               ⏹ Finished [0]\n",
      " 584  38D ago    SiestaCalculation               ⏹ Finished [0]\n",
      " 598  38D ago    SiestaCalculation               ⏹ Finished [0]\n",
      " 608  38D ago    SiestaCalculation               ☠ Killed          Killed through `verdi process kill`\n",
      " 616  38D ago    SiestaCalculation               ☠ Killed          Killed through `verdi process kill`\n",
      " 624  38D ago    SiestaCalculation               ☠ Killed          Killed through `verdi process kill`\n",
      " 632  38D ago    SiestaCalculation               ☠ Killed          Killed through `verdi process kill`\n",
      " 640  38D ago    SiestaCalculation               ☠ Killed          Killed through `verdi process kill`\n",
      " 648  27D ago    SiestaCalculation               ☠ Killed          Killed through `verdi process kill`\n",
      " 672  19h ago    FormationEnergyWorkchainSIESTA  ⨯ Excepted\n",
      " 673  18h ago    FormationEnergyWorkchainSIESTA  ⨯ Excepted\n",
      " 694  18h ago    FormationEnergyWorkchainSIESTA  ⨯ Excepted\n",
      " 715  18h ago    FormationEnergyWorkchainSIESTA  ⨯ Excepted\n",
      " 736  18h ago    FormationEnergyWorkchainSIESTA  ⨯ Excepted\n",
      " 757  18h ago    FormationEnergyWorkchainSIESTA  ⨯ Excepted\n",
      " 778  18h ago    FormationEnergyWorkchainSIESTA  ⨯ Excepted\n",
      " 799  18h ago    FormationEnergyWorkchainSIESTA  ⨯ Excepted\n",
      " 820  52m ago    FormationEnergyWorkchainSIESTA  ⨯ Excepted\n",
      " 821  49m ago    FormationEnergyWorkchainSIESTA  ⨯ Excepted\n",
      " 822  47m ago    FormationEnergyWorkchainSIESTA  ⨯ Excepted\n",
      " 823  45m ago    FormationEnergyWorkchainSIESTA  ⨯ Excepted\n",
      " 824  44m ago    FormationEnergyWorkchainSIESTA  ⨯ Excepted\n",
      " 845  44m ago    FormationEnergyWorkchainSIESTA  ⨯ Excepted\n",
      " 866  40m ago    FormationEnergyWorkchainSIESTA  ⨯ Excepted\n",
      " 887  19m ago    FormationEnergyWorkchainSIESTA  ⨯ Excepted\n",
      " 908  8m ago     FormationEnergyWorkchainSIESTA  ⨯ Excepted\n",
      " 929  1m ago     FormationEnergyWorkchainSIESTA  ⏹ Finished [999]\n",
      " 950  3s ago     FormationEnergyWorkchainSIESTA  ⏹ Finished [999]\u001b[0m\n",
      "\u001b[22m\n",
      "Total results: 114\n",
      "\u001b[0m\n",
      "\u001b[34m\u001b[1mInfo: \u001b[0m\u001b[22mlast time an entry changed state: 1s ago (at 08:46:33 on 2020-07-14)\u001b[0m\n"
     ]
    }
   ],
   "source": [
    "!verdi process list -a"
   ]
  },
  {
   "cell_type": "code",
   "execution_count": null,
   "metadata": {},
   "outputs": [],
   "source": [
    "!verdi process show 908"
   ]
  },
  {
   "cell_type": "code",
   "execution_count": null,
   "metadata": {},
   "outputs": [],
   "source": [
    "!verdi process report 908"
   ]
  },
  {
   "cell_type": "code",
   "execution_count": null,
   "metadata": {
    "collapsed": true
   },
   "outputs": [],
   "source": [
    "from aiida.orm import load_node\n",
    "results=load_node('584')"
   ]
  },
  {
   "cell_type": "code",
   "execution_count": null,
   "metadata": {
    "collapsed": true
   },
   "outputs": [],
   "source": [
    "results.outputs['output_parameters'.get_dict()]"
   ]
  },
  {
   "cell_type": "code",
   "execution_count": null,
   "metadata": {
    "collapsed": true
   },
   "outputs": [],
   "source": [
    "results.outputs.output_parameters.get_dict()"
   ]
  },
  {
   "cell_type": "code",
   "execution_count": null,
   "metadata": {
    "collapsed": true
   },
   "outputs": [],
   "source": [
    "code"
   ]
  },
  {
   "cell_type": "code",
   "execution_count": null,
   "metadata": {
    "collapsed": true
   },
   "outputs": [],
   "source": []
  }
 ],
 "metadata": {
  "kernelspec": {
   "display_name": "Python 3",
   "language": "python",
   "name": "python3"
  },
  "language_info": {
   "codemirror_mode": {
    "name": "ipython",
    "version": 3
   },
   "file_extension": ".py",
   "mimetype": "text/x-python",
   "name": "python",
   "nbconvert_exporter": "python",
   "pygments_lexer": "ipython3",
   "version": "3.6.9"
  }
 },
 "nbformat": 4,
 "nbformat_minor": 4
}
